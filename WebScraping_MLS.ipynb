{
  "nbformat": 4,
  "nbformat_minor": 0,
  "metadata": {
    "colab": {
      "name": "WebScraping_MLS.ipynb",
      "provenance": [],
      "collapsed_sections": [
        "AexNTBctAnn4"
      ]
    },
    "kernelspec": {
      "name": "python3",
      "display_name": "Python 3"
    },
    "language_info": {
      "name": "python"
    }
  },
  "cells": [
    {
      "cell_type": "markdown",
      "source": [
        "#Web Scraping in Python\n",
        "\n",
        "What is Web Scraping?\n",
        "<ul>\n",
        "  <li>In simple terms, web scraping is the process of extracting content and data from a website.</li>\n",
        "  <li>A form of Data Engineering</li>\n",
        "  <li>Useful for creating your own datasets to answer your own questions</li>\n",
        "</ul>\n",
        "\n",
        "How does web scraping play a role in Data Science?\n",
        "\n",
        "<img src=\"http://www.uvm.edu/~cbcafier/assets/pipeline.jpg\">\n",
        "\n",
        "<b>Data Wrangling</b> - The process of restructuring, cleaning, and enriching raw data into a desired format for easy access and analysis.\n",
        "\n",
        "<b>Data cleansing</b> - The process of prepping data for analysis by amending or removing incorrect, corrupted, improperly formatted, duplicated, irrelevant, or incomplete data within a dataset. \n",
        "\n",
        "<b>Explore</b> - Analyze your data to see any trends and/or correlations\n",
        "\n",
        "<b>Pre-Process</b> - Prepare the data for modeling though processes such as standarization of values, or one-hot-encoding, etc.\n",
        "\n",
        "<b>Model</b> - Create your model.\n",
        "\n",
        "<b>Validate</b> - Use different metrics (like ROC, F1, loss, etc.) to see if your model has minial errors.\n",
        "\n",
        "<b>Tell the Story</b> - Use your model to make decisions\n",
        "\n",
        "Notice how before anything we need to (1) have a question and then (2) gather our data [via Web Scraping]. \n",
        "\n",
        "<br>\n",
        "\n",
        "<center>\n",
        "<p style=\"color:red;\"><b>Question - Do Major League Soccer Teams pay their players more depending on their position?</b></p> \n",
        "</center>\n",
        "\n",
        "<br>\n",
        "\n",
        "Now that we have our question we need to gather/create a dataset? But before we can talk about that we need to learn some HTML & CSS:\n",
        "<ul>\n",
        "<li>HTML (Hyper Text Markup Language) is a formatting system for displaying material retrieved over the Internet. More specifically, you can structure a webpage using HTML tags which contain HTML atributes. </li>\n",
        "\n",
        "<li>CSS (Cascading Style Sheets) is used to style and layout web pages.</li>\n",
        "</ul>\n",
        "<i>**Lets Do a Very Quick Demo on HTML and CSS Selectors**</i>\n",
        "\n",
        "<br>\n",
        "<br>\n",
        "\n",
        "[Css Selectors](https://www.w3schools.com/cssref/css_selectors.asp)\n",
        "[SelectorGadget](https://chrome.google.com/webstore/detail/selectorgadget/mhjhnkcfbdhnjickkkdbjoemdmbfginb?hl=en)\n",
        "\n",
        "Now, lets go into web scraping!!\n",
        "\n"
      ],
      "metadata": {
        "id": "dgDNZL24yjYS"
      }
    },
    {
      "cell_type": "markdown",
      "source": [
        "# Install Packages"
      ],
      "metadata": {
        "id": "6d4Fnn33RclB"
      }
    },
    {
      "cell_type": "code",
      "source": [
        "!pip install requests"
      ],
      "metadata": {
        "colab": {
          "base_uri": "https://localhost:8080/"
        },
        "id": "supwFRxaRJA0",
        "outputId": "ff9a7538-652f-4cbe-995a-30992795b739"
      },
      "execution_count": null,
      "outputs": [
        {
          "output_type": "stream",
          "name": "stdout",
          "text": [
            "Requirement already satisfied: requests in /usr/local/lib/python3.7/dist-packages (2.23.0)\n",
            "Requirement already satisfied: idna<3,>=2.5 in /usr/local/lib/python3.7/dist-packages (from requests) (2.10)\n",
            "Requirement already satisfied: chardet<4,>=3.0.2 in /usr/local/lib/python3.7/dist-packages (from requests) (3.0.4)\n",
            "Requirement already satisfied: urllib3!=1.25.0,!=1.25.1,<1.26,>=1.21.1 in /usr/local/lib/python3.7/dist-packages (from requests) (1.24.3)\n",
            "Requirement already satisfied: certifi>=2017.4.17 in /usr/local/lib/python3.7/dist-packages (from requests) (2021.10.8)\n"
          ]
        }
      ]
    },
    {
      "cell_type": "code",
      "source": [
        "!pip install beautifulsoup4"
      ],
      "metadata": {
        "colab": {
          "base_uri": "https://localhost:8080/"
        },
        "id": "MfE6cJsmRW8P",
        "outputId": "e5f14431-05fd-4a76-b54a-b44bd3d62705"
      },
      "execution_count": null,
      "outputs": [
        {
          "output_type": "stream",
          "name": "stdout",
          "text": [
            "Requirement already satisfied: beautifulsoup4 in /usr/local/lib/python3.7/dist-packages (4.6.3)\n"
          ]
        }
      ]
    },
    {
      "cell_type": "markdown",
      "source": [
        "#Import Libraries\n"
      ],
      "metadata": {
        "id": "b8uf8481Ach2"
      }
    },
    {
      "cell_type": "code",
      "execution_count": null,
      "metadata": {
        "id": "bAVE3h_oyhPm"
      },
      "outputs": [],
      "source": [
        "import requests\n",
        "from bs4 import BeautifulSoup as bs\n",
        "import pandas as pd"
      ]
    },
    {
      "cell_type": "markdown",
      "source": [
        "# USAS\n",
        "\n",
        "Do MLS soccer players get paid more if they played for more minutes?\n",
        "<br>\n",
        "How does the number of Penalty Kick Saved correlate to a goal keepers salary?"
      ],
      "metadata": {
        "id": "eqj5850OK92F"
      }
    },
    {
      "cell_type": "markdown",
      "source": [
        "How sould the dataframe look like?\n",
        "\n",
        "Each row is a specific player with salaray, and stats\n",
        "\n",
        "First lets get all the players for individual teams"
      ],
      "metadata": {
        "id": "X9Bzb1WFMZ2E"
      }
    },
    {
      "cell_type": "code",
      "source": [
        "html_text = requests.get(\"https://www.spotrac.com/mls/\")\n",
        "print(html_text.status_code)"
      ],
      "metadata": {
        "colab": {
          "base_uri": "https://localhost:8080/"
        },
        "id": "7gVlXYDRMOfa",
        "outputId": "0cd7cfd7-9105-47a3-fbb4-4726ffac8236"
      },
      "execution_count": null,
      "outputs": [
        {
          "output_type": "stream",
          "name": "stdout",
          "text": [
            "200\n"
          ]
        }
      ]
    },
    {
      "cell_type": "code",
      "source": [
        "soup = bs(html_text.content, 'html.parser')"
      ],
      "metadata": {
        "id": "nek1n0ldMv8x"
      },
      "execution_count": null,
      "outputs": []
    },
    {
      "cell_type": "code",
      "source": [
        "team_names = soup.select(\"#main .col-md-4\")\n",
        "team_names[0:3]"
      ],
      "metadata": {
        "colab": {
          "base_uri": "https://localhost:8080/"
        },
        "id": "9D5ttMTwM3VQ",
        "outputId": "83dd2e85-d972-4a31-b56e-eee6be22d4f5"
      },
      "execution_count": null,
      "outputs": [
        {
          "output_type": "execute_result",
          "data": {
            "text/plain": [
              "[<div class=\"teamname col-xs-10 col-md-4\">\n",
              " <h3><a class=\"team-name\" href=\"https://www.spotrac.com/mls/atlanta-united-fc/\">Atlanta United FC</a></h3>\n",
              " </div>, <div class=\"teamname col-xs-10 col-md-4\">\n",
              " <h3><a class=\"team-name\" href=\"https://www.spotrac.com/mls/austin-fc/\">Austin FC</a></h3>\n",
              " </div>, <div class=\"teamname col-xs-10 col-md-4\">\n",
              " <h3><a class=\"team-name\" href=\"https://www.spotrac.com/mls/cf-montreal/\">CF Montreal</a></h3>\n",
              " </div>]"
            ]
          },
          "metadata": {},
          "execution_count": 4
        }
      ]
    },
    {
      "cell_type": "code",
      "source": [
        "team_names[0].find_all('a', class_=\"team-name\")[0].string\n",
        "team_names[0].find_all('a', class_=\"team-name\")[0]['href']"
      ],
      "metadata": {
        "colab": {
          "base_uri": "https://localhost:8080/",
          "height": 35
        },
        "id": "_QAqR-uqOBf0",
        "outputId": "b63b7a39-0340-423f-fa31-7cf26d988c41"
      },
      "execution_count": null,
      "outputs": [
        {
          "output_type": "execute_result",
          "data": {
            "text/plain": [
              "'https://www.spotrac.com/mls/atlanta-united-fc/'"
            ],
            "application/vnd.google.colaboratory.intrinsic+json": {
              "type": "string"
            }
          },
          "metadata": {},
          "execution_count": 5
        }
      ]
    },
    {
      "cell_type": "code",
      "source": [
        "team_names[0].text.strip()"
      ],
      "metadata": {
        "colab": {
          "base_uri": "https://localhost:8080/",
          "height": 35
        },
        "id": "arVI_7x8OE3-",
        "outputId": "1c1fcb29-52db-4346-f84f-6166b4adbe62"
      },
      "execution_count": null,
      "outputs": [
        {
          "output_type": "execute_result",
          "data": {
            "text/plain": [
              "'Atlanta United FC'"
            ],
            "application/vnd.google.colaboratory.intrinsic+json": {
              "type": "string"
            }
          },
          "metadata": {},
          "execution_count": 6
        }
      ]
    },
    {
      "cell_type": "code",
      "source": [
        "mls_team_names = []\n",
        "for item in team_names:\n",
        "  mls_team_names.append((item.find_all('a', class_=\"team-name\")[0].string, item.find_all('a', class_=\"team-name\")[0]['href']))\n",
        "print(mls_team_names)\n",
        "len(mls_team_names)"
      ],
      "metadata": {
        "colab": {
          "base_uri": "https://localhost:8080/"
        },
        "id": "_M2ZMKNtOKF3",
        "outputId": "e79716ad-3a0d-4b1a-d8cd-7ae552193a43"
      },
      "execution_count": null,
      "outputs": [
        {
          "output_type": "stream",
          "name": "stdout",
          "text": [
            "[('Atlanta United FC', 'https://www.spotrac.com/mls/atlanta-united-fc/'), ('Austin FC', 'https://www.spotrac.com/mls/austin-fc/'), ('CF Montreal', 'https://www.spotrac.com/mls/cf-montreal/'), ('Charlotte FC', 'https://www.spotrac.com/mls/charlotte-fc/'), ('Chicago Fire', 'https://www.spotrac.com/mls/chicago-fire/'), ('Colorado Rapids', 'https://www.spotrac.com/mls/colorado-rapids/'), ('Columbus Crew', 'https://www.spotrac.com/mls/columbus-crew/'), ('D.C. United', 'https://www.spotrac.com/mls/dc-united/'), ('FC Cincinnati', 'https://www.spotrac.com/mls/fc-cincinnati/'), ('FC Dallas', 'https://www.spotrac.com/mls/fc-dallas/'), ('Houston Dynamo', 'https://www.spotrac.com/mls/houston-dynamo/'), ('Inter Miami FC', 'https://www.spotrac.com/mls/inter-miami-fc/'), ('LA Galaxy', 'https://www.spotrac.com/mls/la-galaxy/'), ('Los Angeles FC', 'https://www.spotrac.com/mls/los-angeles-fc/'), ('Minnesota United FC', 'https://www.spotrac.com/mls/minnesota-united-fc/'), ('Nashville SC', 'https://www.spotrac.com/mls/nashville-sc/'), ('New England Revolution', 'https://www.spotrac.com/mls/new-england-revolution/'), ('New York City FC', 'https://www.spotrac.com/mls/new-york-city-fc/'), ('New York Red Bulls', 'https://www.spotrac.com/mls/new-york-red-bulls/'), ('Orlando City', 'https://www.spotrac.com/mls/orlando-city/'), ('Philadelphia Union', 'https://www.spotrac.com/mls/philadelphia-union/'), ('Portland Timbers', 'https://www.spotrac.com/mls/portland-timbers/'), ('Real Salt Lake', 'https://www.spotrac.com/mls/real-salt-lake/'), ('San Jose Earthquakes', 'https://www.spotrac.com/mls/san-jose-earthquakes/'), ('Seattle Sounders FC', 'https://www.spotrac.com/mls/seattle-sounders-fc/'), ('Sporting Kansas City', 'https://www.spotrac.com/mls/sporting-kansas-city/'), ('Toronto FC', 'https://www.spotrac.com/mls/toronto-fc/'), ('Vancouver Whitecaps FC', 'https://www.spotrac.com/mls/vancouver-whitecaps-fc/')]\n"
          ]
        },
        {
          "output_type": "execute_result",
          "data": {
            "text/plain": [
              "28"
            ]
          },
          "metadata": {},
          "execution_count": 7
        }
      ]
    },
    {
      "cell_type": "code",
      "source": [
        "def extract_info(lst):\n",
        "  ret_lst = []\n",
        "  for item in lst:\n",
        "    ret_lst.append(item.string.strip())\n",
        "  return ret_lst"
      ],
      "metadata": {
        "id": "0Mx--mQRVb5S"
      },
      "execution_count": null,
      "outputs": []
    },
    {
      "cell_type": "markdown",
      "source": [
        "Doing for Atlanta United FC"
      ],
      "metadata": {
        "id": "Eduzs4jGRVNF"
      }
    },
    {
      "cell_type": "code",
      "source": [
        "#goto the Atlanta United FC team roster page\n",
        "team_name = mls_team_names[0]\n",
        "team_name"
      ],
      "metadata": {
        "colab": {
          "base_uri": "https://localhost:8080/"
        },
        "id": "sA87aBN1RUHB",
        "outputId": "b0571640-73bf-4faa-82fe-acda4ca5b82b"
      },
      "execution_count": null,
      "outputs": [
        {
          "output_type": "execute_result",
          "data": {
            "text/plain": [
              "('Atlanta United FC', 'https://www.spotrac.com/mls/atlanta-united-fc/')"
            ]
          },
          "metadata": {},
          "execution_count": 9
        }
      ]
    },
    {
      "cell_type": "code",
      "source": [
        "atlanta_united = requests.get(team_name[1])\n",
        "print(atlanta_united.status_code)"
      ],
      "metadata": {
        "colab": {
          "base_uri": "https://localhost:8080/"
        },
        "id": "Teq3ExSuOKM_",
        "outputId": "b6fe6f64-01de-4a90-b274-8c563f9fdb51"
      },
      "execution_count": null,
      "outputs": [
        {
          "output_type": "stream",
          "name": "stdout",
          "text": [
            "200\n"
          ]
        }
      ]
    },
    {
      "cell_type": "code",
      "source": [
        "atlanta_united_soup = bs(atlanta_united.content, 'html.parser')"
      ],
      "metadata": {
        "id": "9lqiyraDOKPP"
      },
      "execution_count": null,
      "outputs": []
    },
    {
      "cell_type": "code",
      "source": [
        "player_name = []\n",
        "player_position = []\n",
        "player_base_salary = []\n",
        "player_guaranteed_salary = []"
      ],
      "metadata": {
        "id": "4Ek7TH2ZOKRv"
      },
      "execution_count": null,
      "outputs": []
    },
    {
      "cell_type": "code",
      "source": [
        "names = atlanta_united_soup.select('.player a')\n",
        "print(names)"
      ],
      "metadata": {
        "colab": {
          "base_uri": "https://localhost:8080/"
        },
        "id": "8jTnweU0OKT-",
        "outputId": "e8034dfd-2287-497d-d8ca-748ab111db23"
      },
      "execution_count": null,
      "outputs": [
        {
          "output_type": "stream",
          "name": "stdout",
          "text": [
            "[<a href=\"https://www.spotrac.com/redirect/player/21515/\">Josef Martinez</a>, <a href=\"https://www.spotrac.com/redirect/player/74245/\">Luiz Araujo</a>, <a href=\"https://www.spotrac.com/redirect/player/21477/\">Miles Robinson</a>, <a href=\"https://www.spotrac.com/redirect/player/72247/\">Alan Franco</a>, <a href=\"https://www.spotrac.com/redirect/player/47303/\">Matheus Rossetto</a>, <a href=\"https://www.spotrac.com/redirect/player/31970/\">Emerson Hyndman</a>, <a href=\"https://www.spotrac.com/redirect/player/71757/\">Santiago Sosa</a>, <a href=\"https://www.spotrac.com/redirect/player/71786/\">Franco Ibarra</a>, <a href=\"https://www.spotrac.com/redirect/player/21553/\">Brooks Lennon</a>, <a href=\"https://www.spotrac.com/redirect/player/62635/\">Marcelino Moreno</a>, <a href=\"https://www.spotrac.com/redirect/player/21513/\">Brad Guzan</a>, <a href=\"https://www.spotrac.com/redirect/player/32708/\">Andrew Gutman</a>, <a href=\"https://www.spotrac.com/redirect/player/71768/\">Ronald Hernandez</a>, <a href=\"https://www.spotrac.com/redirect/player/76222/\">Ronaldo Cisneros</a>, <a href=\"https://www.spotrac.com/redirect/player/9535/\">Bobby Shuttleworth</a>, <a href=\"https://www.spotrac.com/redirect/player/9689/\">Osvaldo Alonso</a>, <a href=\"https://www.spotrac.com/redirect/player/9725/\">Dom Dwyer</a>, <a href=\"https://www.spotrac.com/redirect/player/76888/\">Rocco Ríos Novo</a>, <a href=\"https://www.spotrac.com/redirect/player/21009/\">Mikey Ambrose</a>, <a href=\"https://www.spotrac.com/redirect/player/28394/\">Dylan Castanheira</a>, <a href=\"https://www.spotrac.com/redirect/player/28304/\">Alex De John</a>, <a href=\"https://www.spotrac.com/redirect/player/28339/\">Amar Sejdic</a>, <a href=\"https://www.spotrac.com/redirect/player/70850/\">Tyler Wolff</a>, <a href=\"https://www.spotrac.com/redirect/player/32388/\">George Campbell</a>, <a href=\"https://www.spotrac.com/redirect/player/70809/\">Jackson Conway</a>, <a href=\"https://www.spotrac.com/redirect/player/75627/\">Caleb Wiley</a>, <a href=\"https://www.spotrac.com/redirect/player/75196/\">Erik Centeno</a>, <a href=\"https://www.spotrac.com/redirect/player/71505/\">Machop Chol</a>, <a href=\"https://www.spotrac.com/redirect/player/73055/\">Bryce Washington</a>, <a href=\"https://www.spotrac.com/redirect/player/74979/\">Thiago Almada</a>, <a href=\"https://www.spotrac.com/redirect/player/24853/\">Ezequiel Barco</a>, <a href=\"https://www.spotrac.com/redirect/player/72899/\">Erik Lopez</a>, <a href=\"https://www.spotrac.com/redirect/player/75173/\">Justin Garces</a>, <a href=\"https://www.spotrac.com/redirect/player/50154/\">Efrain Morales</a>, <a href=\"https://www.spotrac.com/redirect/player/78107/\">Raúl Gudiño</a>, <a href=\"https://www.spotrac.com/redirect/player/78106/\">Juan José Purata</a>]\n"
          ]
        }
      ]
    },
    {
      "cell_type": "code",
      "source": [
        "player_name = extract_info(names)\n",
        "print(player_name)"
      ],
      "metadata": {
        "colab": {
          "base_uri": "https://localhost:8080/"
        },
        "id": "UOgnzVLtOKWU",
        "outputId": "92a02588-a314-4d83-f59e-3602207f0f80"
      },
      "execution_count": null,
      "outputs": [
        {
          "output_type": "stream",
          "name": "stdout",
          "text": [
            "['Josef Martinez', 'Luiz Araujo', 'Miles Robinson', 'Alan Franco', 'Matheus Rossetto', 'Emerson Hyndman', 'Santiago Sosa', 'Franco Ibarra', 'Brooks Lennon', 'Marcelino Moreno', 'Brad Guzan', 'Andrew Gutman', 'Ronald Hernandez', 'Ronaldo Cisneros', 'Bobby Shuttleworth', 'Osvaldo Alonso', 'Dom Dwyer', 'Rocco Ríos Novo', 'Mikey Ambrose', 'Dylan Castanheira', 'Alex De John', 'Amar Sejdic', 'Tyler Wolff', 'George Campbell', 'Jackson Conway', 'Caleb Wiley', 'Erik Centeno', 'Machop Chol', 'Bryce Washington', 'Thiago Almada', 'Ezequiel Barco', 'Erik Lopez', 'Justin Garces', 'Efrain Morales', 'Raúl Gudiño', 'Juan José Purata']\n"
          ]
        }
      ]
    },
    {
      "cell_type": "code",
      "source": [
        "player_position = extract_info(atlanta_united_soup.select('.player + .center .cap'))\n",
        "print(player_position)"
      ],
      "metadata": {
        "colab": {
          "base_uri": "https://localhost:8080/"
        },
        "id": "uHlUzLjOOKYu",
        "outputId": "dee652c8-0479-4f99-ef08-b6b989018752"
      },
      "execution_count": null,
      "outputs": [
        {
          "output_type": "stream",
          "name": "stdout",
          "text": [
            "['F', 'F', 'D', 'D', 'M', 'M', 'M', 'M', 'M', 'F', 'GK', 'D', 'D', 'F', 'GK', 'M', 'F', 'GK', 'D', 'GK', 'D', 'M', 'F', 'D', 'F', 'D', 'D', 'F', 'D', 'M', 'M', 'F', 'GK', 'D', 'GK', 'D']\n"
          ]
        }
      ]
    },
    {
      "cell_type": "code",
      "source": [
        "player_base_salary = extract_info(atlanta_united_soup.select('.center + .right .info'))\n",
        "print(player_base_salary)"
      ],
      "metadata": {
        "colab": {
          "base_uri": "https://localhost:8080/"
        },
        "id": "V4J-4BYvOKdQ",
        "outputId": "4a053c8a-bb5b-4231-f735-fe9037f6330f"
      },
      "execution_count": null,
      "outputs": [
        {
          "output_type": "stream",
          "name": "stdout",
          "text": [
            "['$3,750,000', '$3,600,000', '$700,000', '$540,000', '$550,000', '$657,143', '$525,000', '$450,000', '$500,000', '$460,000', '$445,716', '$300,000', '$300,000', '$244,000', '$125,000', '$84,000', '$84,000', '-', '$85,444', '$85,444', '$85,444', '$85,444', '$110,000', '$98,000', '$84,000', '$65,500', '$65,500', '$65,500', '$65,500', '$1,650,000', '$2,200,000', '$360,000', '$65,500', '$65,500', '-', '-']\n"
          ]
        }
      ]
    },
    {
      "cell_type": "code",
      "source": [
        "player_guaranteed_salary = extract_info(atlanta_united_soup.select('.right + .right .info'))\n",
        "print(player_guaranteed_salary)"
      ],
      "metadata": {
        "colab": {
          "base_uri": "https://localhost:8080/"
        },
        "id": "7T5mfsQzOKfG",
        "outputId": "ede8c490-be08-469a-8c64-5062d0863297"
      },
      "execution_count": null,
      "outputs": [
        {
          "output_type": "stream",
          "name": "stdout",
          "text": [
            "['$4,141,667', '$3,941,667', '$737,500', '$667,500', '$662,500', '$657,143', '$643,100', '$520,000', '$500,000', '$460,000', '$458,216', '$331,250', '$300,000', '$244,000', '$125,000', '$84,000', '$84,000', '-', '$85,444', '$85,444', '$85,444', '$85,444', '$114,500', '$98,000', '$84,000', '$67,100', '$65,500', '$65,500', '$65,500', '$2,332,000', '$2,200,000', '$528,300', '$65,500', '$65,500', '-', '-']\n"
          ]
        }
      ]
    },
    {
      "cell_type": "code",
      "source": [
        "df = pd.DataFrame(data={\n",
        "    \"player_name\": player_name,\n",
        "    \"player_position\": player_position,\n",
        "    \"player_base_salary\": player_base_salary,\n",
        "    \"player_guaranteed_salary\": player_guaranteed_salary,\n",
        "    \"mls_team\": \"Atlanta United FC\"\n",
        "})"
      ],
      "metadata": {
        "id": "vbgC28K8Zcu7"
      },
      "execution_count": null,
      "outputs": []
    },
    {
      "cell_type": "code",
      "source": [
        "df.head(1)"
      ],
      "metadata": {
        "colab": {
          "base_uri": "https://localhost:8080/",
          "height": 81
        },
        "id": "22gwqXy7Zcxt",
        "outputId": "4332b3ba-7ab5-4d8b-db2d-0e728cfc7176"
      },
      "execution_count": null,
      "outputs": [
        {
          "output_type": "execute_result",
          "data": {
            "text/plain": [
              "      player_name player_position player_base_salary player_guaranteed_salary  \\\n",
              "0  Josef Martinez               F         $3,750,000               $4,141,667   \n",
              "\n",
              "            mls_team  \n",
              "0  Atlanta United FC  "
            ],
            "text/html": [
              "\n",
              "  <div id=\"df-be7949a7-8894-4bab-976f-38e069f8e064\">\n",
              "    <div class=\"colab-df-container\">\n",
              "      <div>\n",
              "<style scoped>\n",
              "    .dataframe tbody tr th:only-of-type {\n",
              "        vertical-align: middle;\n",
              "    }\n",
              "\n",
              "    .dataframe tbody tr th {\n",
              "        vertical-align: top;\n",
              "    }\n",
              "\n",
              "    .dataframe thead th {\n",
              "        text-align: right;\n",
              "    }\n",
              "</style>\n",
              "<table border=\"1\" class=\"dataframe\">\n",
              "  <thead>\n",
              "    <tr style=\"text-align: right;\">\n",
              "      <th></th>\n",
              "      <th>player_name</th>\n",
              "      <th>player_position</th>\n",
              "      <th>player_base_salary</th>\n",
              "      <th>player_guaranteed_salary</th>\n",
              "      <th>mls_team</th>\n",
              "    </tr>\n",
              "  </thead>\n",
              "  <tbody>\n",
              "    <tr>\n",
              "      <th>0</th>\n",
              "      <td>Josef Martinez</td>\n",
              "      <td>F</td>\n",
              "      <td>$3,750,000</td>\n",
              "      <td>$4,141,667</td>\n",
              "      <td>Atlanta United FC</td>\n",
              "    </tr>\n",
              "  </tbody>\n",
              "</table>\n",
              "</div>\n",
              "      <button class=\"colab-df-convert\" onclick=\"convertToInteractive('df-be7949a7-8894-4bab-976f-38e069f8e064')\"\n",
              "              title=\"Convert this dataframe to an interactive table.\"\n",
              "              style=\"display:none;\">\n",
              "        \n",
              "  <svg xmlns=\"http://www.w3.org/2000/svg\" height=\"24px\"viewBox=\"0 0 24 24\"\n",
              "       width=\"24px\">\n",
              "    <path d=\"M0 0h24v24H0V0z\" fill=\"none\"/>\n",
              "    <path d=\"M18.56 5.44l.94 2.06.94-2.06 2.06-.94-2.06-.94-.94-2.06-.94 2.06-2.06.94zm-11 1L8.5 8.5l.94-2.06 2.06-.94-2.06-.94L8.5 2.5l-.94 2.06-2.06.94zm10 10l.94 2.06.94-2.06 2.06-.94-2.06-.94-.94-2.06-.94 2.06-2.06.94z\"/><path d=\"M17.41 7.96l-1.37-1.37c-.4-.4-.92-.59-1.43-.59-.52 0-1.04.2-1.43.59L10.3 9.45l-7.72 7.72c-.78.78-.78 2.05 0 2.83L4 21.41c.39.39.9.59 1.41.59.51 0 1.02-.2 1.41-.59l7.78-7.78 2.81-2.81c.8-.78.8-2.07 0-2.86zM5.41 20L4 18.59l7.72-7.72 1.47 1.35L5.41 20z\"/>\n",
              "  </svg>\n",
              "      </button>\n",
              "      \n",
              "  <style>\n",
              "    .colab-df-container {\n",
              "      display:flex;\n",
              "      flex-wrap:wrap;\n",
              "      gap: 12px;\n",
              "    }\n",
              "\n",
              "    .colab-df-convert {\n",
              "      background-color: #E8F0FE;\n",
              "      border: none;\n",
              "      border-radius: 50%;\n",
              "      cursor: pointer;\n",
              "      display: none;\n",
              "      fill: #1967D2;\n",
              "      height: 32px;\n",
              "      padding: 0 0 0 0;\n",
              "      width: 32px;\n",
              "    }\n",
              "\n",
              "    .colab-df-convert:hover {\n",
              "      background-color: #E2EBFA;\n",
              "      box-shadow: 0px 1px 2px rgba(60, 64, 67, 0.3), 0px 1px 3px 1px rgba(60, 64, 67, 0.15);\n",
              "      fill: #174EA6;\n",
              "    }\n",
              "\n",
              "    [theme=dark] .colab-df-convert {\n",
              "      background-color: #3B4455;\n",
              "      fill: #D2E3FC;\n",
              "    }\n",
              "\n",
              "    [theme=dark] .colab-df-convert:hover {\n",
              "      background-color: #434B5C;\n",
              "      box-shadow: 0px 1px 3px 1px rgba(0, 0, 0, 0.15);\n",
              "      filter: drop-shadow(0px 1px 2px rgba(0, 0, 0, 0.3));\n",
              "      fill: #FFFFFF;\n",
              "    }\n",
              "  </style>\n",
              "\n",
              "      <script>\n",
              "        const buttonEl =\n",
              "          document.querySelector('#df-be7949a7-8894-4bab-976f-38e069f8e064 button.colab-df-convert');\n",
              "        buttonEl.style.display =\n",
              "          google.colab.kernel.accessAllowed ? 'block' : 'none';\n",
              "\n",
              "        async function convertToInteractive(key) {\n",
              "          const element = document.querySelector('#df-be7949a7-8894-4bab-976f-38e069f8e064');\n",
              "          const dataTable =\n",
              "            await google.colab.kernel.invokeFunction('convertToInteractive',\n",
              "                                                     [key], {});\n",
              "          if (!dataTable) return;\n",
              "\n",
              "          const docLinkHtml = 'Like what you see? Visit the ' +\n",
              "            '<a target=\"_blank\" href=https://colab.research.google.com/notebooks/data_table.ipynb>data table notebook</a>'\n",
              "            + ' to learn more about interactive tables.';\n",
              "          element.innerHTML = '';\n",
              "          dataTable['output_type'] = 'display_data';\n",
              "          await google.colab.output.renderOutput(dataTable, element);\n",
              "          const docLink = document.createElement('div');\n",
              "          docLink.innerHTML = docLinkHtml;\n",
              "          element.appendChild(docLink);\n",
              "        }\n",
              "      </script>\n",
              "    </div>\n",
              "  </div>\n",
              "  "
            ]
          },
          "metadata": {},
          "execution_count": 19
        }
      ]
    },
    {
      "cell_type": "code",
      "source": [
        "len(df)"
      ],
      "metadata": {
        "colab": {
          "base_uri": "https://localhost:8080/"
        },
        "id": "-2PkCMDydhyH",
        "outputId": "469ff9a0-c4dc-489c-9ce5-16cf65407883"
      },
      "execution_count": null,
      "outputs": [
        {
          "output_type": "execute_result",
          "data": {
            "text/plain": [
              "36"
            ]
          },
          "metadata": {},
          "execution_count": 20
        }
      ]
    },
    {
      "cell_type": "code",
      "source": [
        "def get_dat_from_link(item):\n",
        "  # print(item[0])\n",
        "  team_link = requests.get(item[1])\n",
        "  soup = bs(team_link.content, 'html.parser')\n",
        "\n",
        "  player_name = extract_info(soup.select('.player a'))\n",
        "  player_position = extract_info(soup.select('.player + .center .cap'))\n",
        "  player_base_salary = extract_info(soup.select('.center + .right .info'))\n",
        "  # if item[0] in ['Colorado Rapids', 'New England Revolution', 'D.C. United', 'Los Angeles FC']:\n",
        "  player_guaranteed_salary = extract_info(soup.select('.right + .right .cap'))\n",
        "  if len(player_guaranteed_salary) != len(player_name):\n",
        "    player_guaranteed_salary = extract_info(soup.select('.right + .right .info'))\n",
        "    \n",
        "  print(team[0], len(player_name), len(player_position), len(player_base_salary), len(player_guaranteed_salary))\n",
        "  ret_df = pd.DataFrame(data={\n",
        "      \"player_name\": player_name,\n",
        "      \"player_position\": player_position,\n",
        "      \"player_base_salary\": player_base_salary,\n",
        "      \"player_guaranteed_salary\": player_guaranteed_salary,\n",
        "      \"mls_team\": item[0]\n",
        "  })\n",
        "  return ret_df\n",
        "\n",
        "for team in mls_team_names[1:]:\n",
        "    df = df.append(get_dat_from_link(team))"
      ],
      "metadata": {
        "colab": {
          "base_uri": "https://localhost:8080/"
        },
        "id": "2vKAchPMZczn",
        "outputId": "57049690-4f47-4470-8548-0621f4f95899"
      },
      "execution_count": null,
      "outputs": [
        {
          "output_type": "stream",
          "name": "stdout",
          "text": [
            "Austin FC 29 29 29 29\n",
            "CF Montreal 34 34 34 34\n",
            "Charlotte FC 32 32 32 32\n",
            "Chicago Fire 29 29 29 29\n",
            "Colorado Rapids 33 33 33 33\n",
            "Columbus Crew 30 30 30 30\n",
            "D.C. United 31 31 31 31\n",
            "FC Cincinnati 29 29 29 29\n",
            "FC Dallas 31 31 31 31\n",
            "Houston Dynamo 32 32 32 32\n",
            "Inter Miami FC 34 34 34 34\n",
            "LA Galaxy 30 30 30 30\n",
            "Los Angeles FC 31 31 31 31\n",
            "Minnesota United FC 31 31 31 31\n",
            "Nashville SC 28 28 28 28\n",
            "New England Revolution 30 30 30 30\n",
            "New York City FC 32 32 32 32\n",
            "New York Red Bulls 31 31 31 31\n",
            "Orlando City 30 30 30 30\n",
            "Philadelphia Union 29 29 29 29\n",
            "Portland Timbers 28 28 28 28\n",
            "Real Salt Lake 37 37 37 37\n",
            "San Jose Earthquakes 29 29 29 29\n",
            "Seattle Sounders FC 28 28 28 28\n",
            "Sporting Kansas City 29 29 29 29\n",
            "Toronto FC 27 27 27 27\n",
            "Vancouver Whitecaps FC 34 34 34 34\n"
          ]
        }
      ]
    },
    {
      "cell_type": "code",
      "source": [
        "len(df)"
      ],
      "metadata": {
        "colab": {
          "base_uri": "https://localhost:8080/"
        },
        "id": "wY3YrVX2Zc2E",
        "outputId": "31ccaf8b-bdc6-4239-a1bd-4bac3432c496"
      },
      "execution_count": null,
      "outputs": [
        {
          "output_type": "execute_result",
          "data": {
            "text/plain": [
              "864"
            ]
          },
          "metadata": {},
          "execution_count": 31
        }
      ]
    },
    {
      "cell_type": "code",
      "source": [
        "len(df['mls_team'].unique())"
      ],
      "metadata": {
        "id": "SWALSf-xZc4k",
        "colab": {
          "base_uri": "https://localhost:8080/"
        },
        "outputId": "996c8d74-3ea9-4c93-b071-5a650a2f67d5"
      },
      "execution_count": null,
      "outputs": [
        {
          "output_type": "execute_result",
          "data": {
            "text/plain": [
              "28"
            ]
          },
          "metadata": {},
          "execution_count": 32
        }
      ]
    },
    {
      "cell_type": "code",
      "source": [
        "df.head()"
      ],
      "metadata": {
        "id": "TA6DeKUxZc7F",
        "colab": {
          "base_uri": "https://localhost:8080/",
          "height": 206
        },
        "outputId": "aee63aaa-5415-4cca-d9e0-5b4100ae21ae"
      },
      "execution_count": null,
      "outputs": [
        {
          "output_type": "execute_result",
          "data": {
            "text/plain": [
              "        player_name player_position player_base_salary  \\\n",
              "0    Josef Martinez               F         $3,750,000   \n",
              "1       Luiz Araujo               F         $3,600,000   \n",
              "2    Miles Robinson               D           $700,000   \n",
              "3       Alan Franco               D           $540,000   \n",
              "4  Matheus Rossetto               M           $550,000   \n",
              "\n",
              "  player_guaranteed_salary           mls_team  \n",
              "0               $4,141,667  Atlanta United FC  \n",
              "1               $3,941,667  Atlanta United FC  \n",
              "2                 $737,500  Atlanta United FC  \n",
              "3                 $667,500  Atlanta United FC  \n",
              "4                 $662,500  Atlanta United FC  "
            ],
            "text/html": [
              "\n",
              "  <div id=\"df-6bf10df5-d77b-49e6-976c-d95e132a4aeb\">\n",
              "    <div class=\"colab-df-container\">\n",
              "      <div>\n",
              "<style scoped>\n",
              "    .dataframe tbody tr th:only-of-type {\n",
              "        vertical-align: middle;\n",
              "    }\n",
              "\n",
              "    .dataframe tbody tr th {\n",
              "        vertical-align: top;\n",
              "    }\n",
              "\n",
              "    .dataframe thead th {\n",
              "        text-align: right;\n",
              "    }\n",
              "</style>\n",
              "<table border=\"1\" class=\"dataframe\">\n",
              "  <thead>\n",
              "    <tr style=\"text-align: right;\">\n",
              "      <th></th>\n",
              "      <th>player_name</th>\n",
              "      <th>player_position</th>\n",
              "      <th>player_base_salary</th>\n",
              "      <th>player_guaranteed_salary</th>\n",
              "      <th>mls_team</th>\n",
              "    </tr>\n",
              "  </thead>\n",
              "  <tbody>\n",
              "    <tr>\n",
              "      <th>0</th>\n",
              "      <td>Josef Martinez</td>\n",
              "      <td>F</td>\n",
              "      <td>$3,750,000</td>\n",
              "      <td>$4,141,667</td>\n",
              "      <td>Atlanta United FC</td>\n",
              "    </tr>\n",
              "    <tr>\n",
              "      <th>1</th>\n",
              "      <td>Luiz Araujo</td>\n",
              "      <td>F</td>\n",
              "      <td>$3,600,000</td>\n",
              "      <td>$3,941,667</td>\n",
              "      <td>Atlanta United FC</td>\n",
              "    </tr>\n",
              "    <tr>\n",
              "      <th>2</th>\n",
              "      <td>Miles Robinson</td>\n",
              "      <td>D</td>\n",
              "      <td>$700,000</td>\n",
              "      <td>$737,500</td>\n",
              "      <td>Atlanta United FC</td>\n",
              "    </tr>\n",
              "    <tr>\n",
              "      <th>3</th>\n",
              "      <td>Alan Franco</td>\n",
              "      <td>D</td>\n",
              "      <td>$540,000</td>\n",
              "      <td>$667,500</td>\n",
              "      <td>Atlanta United FC</td>\n",
              "    </tr>\n",
              "    <tr>\n",
              "      <th>4</th>\n",
              "      <td>Matheus Rossetto</td>\n",
              "      <td>M</td>\n",
              "      <td>$550,000</td>\n",
              "      <td>$662,500</td>\n",
              "      <td>Atlanta United FC</td>\n",
              "    </tr>\n",
              "  </tbody>\n",
              "</table>\n",
              "</div>\n",
              "      <button class=\"colab-df-convert\" onclick=\"convertToInteractive('df-6bf10df5-d77b-49e6-976c-d95e132a4aeb')\"\n",
              "              title=\"Convert this dataframe to an interactive table.\"\n",
              "              style=\"display:none;\">\n",
              "        \n",
              "  <svg xmlns=\"http://www.w3.org/2000/svg\" height=\"24px\"viewBox=\"0 0 24 24\"\n",
              "       width=\"24px\">\n",
              "    <path d=\"M0 0h24v24H0V0z\" fill=\"none\"/>\n",
              "    <path d=\"M18.56 5.44l.94 2.06.94-2.06 2.06-.94-2.06-.94-.94-2.06-.94 2.06-2.06.94zm-11 1L8.5 8.5l.94-2.06 2.06-.94-2.06-.94L8.5 2.5l-.94 2.06-2.06.94zm10 10l.94 2.06.94-2.06 2.06-.94-2.06-.94-.94-2.06-.94 2.06-2.06.94z\"/><path d=\"M17.41 7.96l-1.37-1.37c-.4-.4-.92-.59-1.43-.59-.52 0-1.04.2-1.43.59L10.3 9.45l-7.72 7.72c-.78.78-.78 2.05 0 2.83L4 21.41c.39.39.9.59 1.41.59.51 0 1.02-.2 1.41-.59l7.78-7.78 2.81-2.81c.8-.78.8-2.07 0-2.86zM5.41 20L4 18.59l7.72-7.72 1.47 1.35L5.41 20z\"/>\n",
              "  </svg>\n",
              "      </button>\n",
              "      \n",
              "  <style>\n",
              "    .colab-df-container {\n",
              "      display:flex;\n",
              "      flex-wrap:wrap;\n",
              "      gap: 12px;\n",
              "    }\n",
              "\n",
              "    .colab-df-convert {\n",
              "      background-color: #E8F0FE;\n",
              "      border: none;\n",
              "      border-radius: 50%;\n",
              "      cursor: pointer;\n",
              "      display: none;\n",
              "      fill: #1967D2;\n",
              "      height: 32px;\n",
              "      padding: 0 0 0 0;\n",
              "      width: 32px;\n",
              "    }\n",
              "\n",
              "    .colab-df-convert:hover {\n",
              "      background-color: #E2EBFA;\n",
              "      box-shadow: 0px 1px 2px rgba(60, 64, 67, 0.3), 0px 1px 3px 1px rgba(60, 64, 67, 0.15);\n",
              "      fill: #174EA6;\n",
              "    }\n",
              "\n",
              "    [theme=dark] .colab-df-convert {\n",
              "      background-color: #3B4455;\n",
              "      fill: #D2E3FC;\n",
              "    }\n",
              "\n",
              "    [theme=dark] .colab-df-convert:hover {\n",
              "      background-color: #434B5C;\n",
              "      box-shadow: 0px 1px 3px 1px rgba(0, 0, 0, 0.15);\n",
              "      filter: drop-shadow(0px 1px 2px rgba(0, 0, 0, 0.3));\n",
              "      fill: #FFFFFF;\n",
              "    }\n",
              "  </style>\n",
              "\n",
              "      <script>\n",
              "        const buttonEl =\n",
              "          document.querySelector('#df-6bf10df5-d77b-49e6-976c-d95e132a4aeb button.colab-df-convert');\n",
              "        buttonEl.style.display =\n",
              "          google.colab.kernel.accessAllowed ? 'block' : 'none';\n",
              "\n",
              "        async function convertToInteractive(key) {\n",
              "          const element = document.querySelector('#df-6bf10df5-d77b-49e6-976c-d95e132a4aeb');\n",
              "          const dataTable =\n",
              "            await google.colab.kernel.invokeFunction('convertToInteractive',\n",
              "                                                     [key], {});\n",
              "          if (!dataTable) return;\n",
              "\n",
              "          const docLinkHtml = 'Like what you see? Visit the ' +\n",
              "            '<a target=\"_blank\" href=https://colab.research.google.com/notebooks/data_table.ipynb>data table notebook</a>'\n",
              "            + ' to learn more about interactive tables.';\n",
              "          element.innerHTML = '';\n",
              "          dataTable['output_type'] = 'display_data';\n",
              "          await google.colab.output.renderOutput(dataTable, element);\n",
              "          const docLink = document.createElement('div');\n",
              "          docLink.innerHTML = docLinkHtml;\n",
              "          element.appendChild(docLink);\n",
              "        }\n",
              "      </script>\n",
              "    </div>\n",
              "  </div>\n",
              "  "
            ]
          },
          "metadata": {},
          "execution_count": 33
        }
      ]
    },
    {
      "cell_type": "code",
      "source": [
        "df.to_csv(\"dataset_salary.csv\")"
      ],
      "metadata": {
        "id": "io5WBCI-WxOC"
      },
      "execution_count": null,
      "outputs": []
    },
    {
      "cell_type": "code",
      "source": [
        "df[df['mls_team'] == 'Atlanta United FC']"
      ],
      "metadata": {
        "id": "4cAkOihXZc__",
        "colab": {
          "base_uri": "https://localhost:8080/",
          "height": 1000
        },
        "outputId": "d577df6f-ef36-46a8-b759-1a4bd29b8a8b"
      },
      "execution_count": null,
      "outputs": [
        {
          "output_type": "execute_result",
          "data": {
            "text/plain": [
              "           player_name player_position player_base_salary  \\\n",
              "0       Josef Martinez               F         $3,750,000   \n",
              "1          Luiz Araujo               F         $3,600,000   \n",
              "2       Miles Robinson               D           $700,000   \n",
              "3          Alan Franco               D           $540,000   \n",
              "4     Matheus Rossetto               M           $550,000   \n",
              "5      Emerson Hyndman               M           $657,143   \n",
              "6        Santiago Sosa               M           $525,000   \n",
              "7        Franco Ibarra               M           $450,000   \n",
              "8        Brooks Lennon               M           $500,000   \n",
              "9     Marcelino Moreno               F           $460,000   \n",
              "10          Brad Guzan              GK           $445,716   \n",
              "11       Andrew Gutman               D           $300,000   \n",
              "12    Ronald Hernandez               D           $300,000   \n",
              "13    Ronaldo Cisneros               F           $244,000   \n",
              "14  Bobby Shuttleworth              GK           $125,000   \n",
              "15      Osvaldo Alonso               M            $84,000   \n",
              "16           Dom Dwyer               F            $84,000   \n",
              "17     Rocco Ríos Novo              GK                  -   \n",
              "18       Mikey Ambrose               D            $85,444   \n",
              "19   Dylan Castanheira              GK            $85,444   \n",
              "20        Alex De John               D            $85,444   \n",
              "21         Amar Sejdic               M            $85,444   \n",
              "22         Tyler Wolff               F           $110,000   \n",
              "23     George Campbell               D            $98,000   \n",
              "24      Jackson Conway               F            $84,000   \n",
              "25         Caleb Wiley               D            $65,500   \n",
              "26        Erik Centeno               D            $65,500   \n",
              "27         Machop Chol               F            $65,500   \n",
              "28    Bryce Washington               D            $65,500   \n",
              "29       Thiago Almada               M         $1,650,000   \n",
              "30      Ezequiel Barco               M         $2,200,000   \n",
              "31          Erik Lopez               F           $360,000   \n",
              "32       Justin Garces              GK            $65,500   \n",
              "33      Efrain Morales               D            $65,500   \n",
              "34         Raúl Gudiño              GK                  -   \n",
              "35    Juan José Purata               D                  -   \n",
              "\n",
              "   player_guaranteed_salary           mls_team  \n",
              "0                $4,141,667  Atlanta United FC  \n",
              "1                $3,941,667  Atlanta United FC  \n",
              "2                  $737,500  Atlanta United FC  \n",
              "3                  $667,500  Atlanta United FC  \n",
              "4                  $662,500  Atlanta United FC  \n",
              "5                  $657,143  Atlanta United FC  \n",
              "6                  $643,100  Atlanta United FC  \n",
              "7                  $520,000  Atlanta United FC  \n",
              "8                  $500,000  Atlanta United FC  \n",
              "9                  $460,000  Atlanta United FC  \n",
              "10                 $458,216  Atlanta United FC  \n",
              "11                 $331,250  Atlanta United FC  \n",
              "12                 $300,000  Atlanta United FC  \n",
              "13                 $244,000  Atlanta United FC  \n",
              "14                 $125,000  Atlanta United FC  \n",
              "15                  $84,000  Atlanta United FC  \n",
              "16                  $84,000  Atlanta United FC  \n",
              "17                        -  Atlanta United FC  \n",
              "18                  $85,444  Atlanta United FC  \n",
              "19                  $85,444  Atlanta United FC  \n",
              "20                  $85,444  Atlanta United FC  \n",
              "21                  $85,444  Atlanta United FC  \n",
              "22                 $114,500  Atlanta United FC  \n",
              "23                  $98,000  Atlanta United FC  \n",
              "24                  $84,000  Atlanta United FC  \n",
              "25                  $67,100  Atlanta United FC  \n",
              "26                  $65,500  Atlanta United FC  \n",
              "27                  $65,500  Atlanta United FC  \n",
              "28                  $65,500  Atlanta United FC  \n",
              "29               $2,332,000  Atlanta United FC  \n",
              "30               $2,200,000  Atlanta United FC  \n",
              "31                 $528,300  Atlanta United FC  \n",
              "32                  $65,500  Atlanta United FC  \n",
              "33                  $65,500  Atlanta United FC  \n",
              "34                        -  Atlanta United FC  \n",
              "35                        -  Atlanta United FC  "
            ],
            "text/html": [
              "\n",
              "  <div id=\"df-d966bbe0-1310-490c-9a1c-ae82a2adf2d1\">\n",
              "    <div class=\"colab-df-container\">\n",
              "      <div>\n",
              "<style scoped>\n",
              "    .dataframe tbody tr th:only-of-type {\n",
              "        vertical-align: middle;\n",
              "    }\n",
              "\n",
              "    .dataframe tbody tr th {\n",
              "        vertical-align: top;\n",
              "    }\n",
              "\n",
              "    .dataframe thead th {\n",
              "        text-align: right;\n",
              "    }\n",
              "</style>\n",
              "<table border=\"1\" class=\"dataframe\">\n",
              "  <thead>\n",
              "    <tr style=\"text-align: right;\">\n",
              "      <th></th>\n",
              "      <th>player_name</th>\n",
              "      <th>player_position</th>\n",
              "      <th>player_base_salary</th>\n",
              "      <th>player_guaranteed_salary</th>\n",
              "      <th>mls_team</th>\n",
              "    </tr>\n",
              "  </thead>\n",
              "  <tbody>\n",
              "    <tr>\n",
              "      <th>0</th>\n",
              "      <td>Josef Martinez</td>\n",
              "      <td>F</td>\n",
              "      <td>$3,750,000</td>\n",
              "      <td>$4,141,667</td>\n",
              "      <td>Atlanta United FC</td>\n",
              "    </tr>\n",
              "    <tr>\n",
              "      <th>1</th>\n",
              "      <td>Luiz Araujo</td>\n",
              "      <td>F</td>\n",
              "      <td>$3,600,000</td>\n",
              "      <td>$3,941,667</td>\n",
              "      <td>Atlanta United FC</td>\n",
              "    </tr>\n",
              "    <tr>\n",
              "      <th>2</th>\n",
              "      <td>Miles Robinson</td>\n",
              "      <td>D</td>\n",
              "      <td>$700,000</td>\n",
              "      <td>$737,500</td>\n",
              "      <td>Atlanta United FC</td>\n",
              "    </tr>\n",
              "    <tr>\n",
              "      <th>3</th>\n",
              "      <td>Alan Franco</td>\n",
              "      <td>D</td>\n",
              "      <td>$540,000</td>\n",
              "      <td>$667,500</td>\n",
              "      <td>Atlanta United FC</td>\n",
              "    </tr>\n",
              "    <tr>\n",
              "      <th>4</th>\n",
              "      <td>Matheus Rossetto</td>\n",
              "      <td>M</td>\n",
              "      <td>$550,000</td>\n",
              "      <td>$662,500</td>\n",
              "      <td>Atlanta United FC</td>\n",
              "    </tr>\n",
              "    <tr>\n",
              "      <th>5</th>\n",
              "      <td>Emerson Hyndman</td>\n",
              "      <td>M</td>\n",
              "      <td>$657,143</td>\n",
              "      <td>$657,143</td>\n",
              "      <td>Atlanta United FC</td>\n",
              "    </tr>\n",
              "    <tr>\n",
              "      <th>6</th>\n",
              "      <td>Santiago Sosa</td>\n",
              "      <td>M</td>\n",
              "      <td>$525,000</td>\n",
              "      <td>$643,100</td>\n",
              "      <td>Atlanta United FC</td>\n",
              "    </tr>\n",
              "    <tr>\n",
              "      <th>7</th>\n",
              "      <td>Franco Ibarra</td>\n",
              "      <td>M</td>\n",
              "      <td>$450,000</td>\n",
              "      <td>$520,000</td>\n",
              "      <td>Atlanta United FC</td>\n",
              "    </tr>\n",
              "    <tr>\n",
              "      <th>8</th>\n",
              "      <td>Brooks Lennon</td>\n",
              "      <td>M</td>\n",
              "      <td>$500,000</td>\n",
              "      <td>$500,000</td>\n",
              "      <td>Atlanta United FC</td>\n",
              "    </tr>\n",
              "    <tr>\n",
              "      <th>9</th>\n",
              "      <td>Marcelino Moreno</td>\n",
              "      <td>F</td>\n",
              "      <td>$460,000</td>\n",
              "      <td>$460,000</td>\n",
              "      <td>Atlanta United FC</td>\n",
              "    </tr>\n",
              "    <tr>\n",
              "      <th>10</th>\n",
              "      <td>Brad Guzan</td>\n",
              "      <td>GK</td>\n",
              "      <td>$445,716</td>\n",
              "      <td>$458,216</td>\n",
              "      <td>Atlanta United FC</td>\n",
              "    </tr>\n",
              "    <tr>\n",
              "      <th>11</th>\n",
              "      <td>Andrew Gutman</td>\n",
              "      <td>D</td>\n",
              "      <td>$300,000</td>\n",
              "      <td>$331,250</td>\n",
              "      <td>Atlanta United FC</td>\n",
              "    </tr>\n",
              "    <tr>\n",
              "      <th>12</th>\n",
              "      <td>Ronald Hernandez</td>\n",
              "      <td>D</td>\n",
              "      <td>$300,000</td>\n",
              "      <td>$300,000</td>\n",
              "      <td>Atlanta United FC</td>\n",
              "    </tr>\n",
              "    <tr>\n",
              "      <th>13</th>\n",
              "      <td>Ronaldo Cisneros</td>\n",
              "      <td>F</td>\n",
              "      <td>$244,000</td>\n",
              "      <td>$244,000</td>\n",
              "      <td>Atlanta United FC</td>\n",
              "    </tr>\n",
              "    <tr>\n",
              "      <th>14</th>\n",
              "      <td>Bobby Shuttleworth</td>\n",
              "      <td>GK</td>\n",
              "      <td>$125,000</td>\n",
              "      <td>$125,000</td>\n",
              "      <td>Atlanta United FC</td>\n",
              "    </tr>\n",
              "    <tr>\n",
              "      <th>15</th>\n",
              "      <td>Osvaldo Alonso</td>\n",
              "      <td>M</td>\n",
              "      <td>$84,000</td>\n",
              "      <td>$84,000</td>\n",
              "      <td>Atlanta United FC</td>\n",
              "    </tr>\n",
              "    <tr>\n",
              "      <th>16</th>\n",
              "      <td>Dom Dwyer</td>\n",
              "      <td>F</td>\n",
              "      <td>$84,000</td>\n",
              "      <td>$84,000</td>\n",
              "      <td>Atlanta United FC</td>\n",
              "    </tr>\n",
              "    <tr>\n",
              "      <th>17</th>\n",
              "      <td>Rocco Ríos Novo</td>\n",
              "      <td>GK</td>\n",
              "      <td>-</td>\n",
              "      <td>-</td>\n",
              "      <td>Atlanta United FC</td>\n",
              "    </tr>\n",
              "    <tr>\n",
              "      <th>18</th>\n",
              "      <td>Mikey Ambrose</td>\n",
              "      <td>D</td>\n",
              "      <td>$85,444</td>\n",
              "      <td>$85,444</td>\n",
              "      <td>Atlanta United FC</td>\n",
              "    </tr>\n",
              "    <tr>\n",
              "      <th>19</th>\n",
              "      <td>Dylan Castanheira</td>\n",
              "      <td>GK</td>\n",
              "      <td>$85,444</td>\n",
              "      <td>$85,444</td>\n",
              "      <td>Atlanta United FC</td>\n",
              "    </tr>\n",
              "    <tr>\n",
              "      <th>20</th>\n",
              "      <td>Alex De John</td>\n",
              "      <td>D</td>\n",
              "      <td>$85,444</td>\n",
              "      <td>$85,444</td>\n",
              "      <td>Atlanta United FC</td>\n",
              "    </tr>\n",
              "    <tr>\n",
              "      <th>21</th>\n",
              "      <td>Amar Sejdic</td>\n",
              "      <td>M</td>\n",
              "      <td>$85,444</td>\n",
              "      <td>$85,444</td>\n",
              "      <td>Atlanta United FC</td>\n",
              "    </tr>\n",
              "    <tr>\n",
              "      <th>22</th>\n",
              "      <td>Tyler Wolff</td>\n",
              "      <td>F</td>\n",
              "      <td>$110,000</td>\n",
              "      <td>$114,500</td>\n",
              "      <td>Atlanta United FC</td>\n",
              "    </tr>\n",
              "    <tr>\n",
              "      <th>23</th>\n",
              "      <td>George Campbell</td>\n",
              "      <td>D</td>\n",
              "      <td>$98,000</td>\n",
              "      <td>$98,000</td>\n",
              "      <td>Atlanta United FC</td>\n",
              "    </tr>\n",
              "    <tr>\n",
              "      <th>24</th>\n",
              "      <td>Jackson Conway</td>\n",
              "      <td>F</td>\n",
              "      <td>$84,000</td>\n",
              "      <td>$84,000</td>\n",
              "      <td>Atlanta United FC</td>\n",
              "    </tr>\n",
              "    <tr>\n",
              "      <th>25</th>\n",
              "      <td>Caleb Wiley</td>\n",
              "      <td>D</td>\n",
              "      <td>$65,500</td>\n",
              "      <td>$67,100</td>\n",
              "      <td>Atlanta United FC</td>\n",
              "    </tr>\n",
              "    <tr>\n",
              "      <th>26</th>\n",
              "      <td>Erik Centeno</td>\n",
              "      <td>D</td>\n",
              "      <td>$65,500</td>\n",
              "      <td>$65,500</td>\n",
              "      <td>Atlanta United FC</td>\n",
              "    </tr>\n",
              "    <tr>\n",
              "      <th>27</th>\n",
              "      <td>Machop Chol</td>\n",
              "      <td>F</td>\n",
              "      <td>$65,500</td>\n",
              "      <td>$65,500</td>\n",
              "      <td>Atlanta United FC</td>\n",
              "    </tr>\n",
              "    <tr>\n",
              "      <th>28</th>\n",
              "      <td>Bryce Washington</td>\n",
              "      <td>D</td>\n",
              "      <td>$65,500</td>\n",
              "      <td>$65,500</td>\n",
              "      <td>Atlanta United FC</td>\n",
              "    </tr>\n",
              "    <tr>\n",
              "      <th>29</th>\n",
              "      <td>Thiago Almada</td>\n",
              "      <td>M</td>\n",
              "      <td>$1,650,000</td>\n",
              "      <td>$2,332,000</td>\n",
              "      <td>Atlanta United FC</td>\n",
              "    </tr>\n",
              "    <tr>\n",
              "      <th>30</th>\n",
              "      <td>Ezequiel Barco</td>\n",
              "      <td>M</td>\n",
              "      <td>$2,200,000</td>\n",
              "      <td>$2,200,000</td>\n",
              "      <td>Atlanta United FC</td>\n",
              "    </tr>\n",
              "    <tr>\n",
              "      <th>31</th>\n",
              "      <td>Erik Lopez</td>\n",
              "      <td>F</td>\n",
              "      <td>$360,000</td>\n",
              "      <td>$528,300</td>\n",
              "      <td>Atlanta United FC</td>\n",
              "    </tr>\n",
              "    <tr>\n",
              "      <th>32</th>\n",
              "      <td>Justin Garces</td>\n",
              "      <td>GK</td>\n",
              "      <td>$65,500</td>\n",
              "      <td>$65,500</td>\n",
              "      <td>Atlanta United FC</td>\n",
              "    </tr>\n",
              "    <tr>\n",
              "      <th>33</th>\n",
              "      <td>Efrain Morales</td>\n",
              "      <td>D</td>\n",
              "      <td>$65,500</td>\n",
              "      <td>$65,500</td>\n",
              "      <td>Atlanta United FC</td>\n",
              "    </tr>\n",
              "    <tr>\n",
              "      <th>34</th>\n",
              "      <td>Raúl Gudiño</td>\n",
              "      <td>GK</td>\n",
              "      <td>-</td>\n",
              "      <td>-</td>\n",
              "      <td>Atlanta United FC</td>\n",
              "    </tr>\n",
              "    <tr>\n",
              "      <th>35</th>\n",
              "      <td>Juan José Purata</td>\n",
              "      <td>D</td>\n",
              "      <td>-</td>\n",
              "      <td>-</td>\n",
              "      <td>Atlanta United FC</td>\n",
              "    </tr>\n",
              "  </tbody>\n",
              "</table>\n",
              "</div>\n",
              "      <button class=\"colab-df-convert\" onclick=\"convertToInteractive('df-d966bbe0-1310-490c-9a1c-ae82a2adf2d1')\"\n",
              "              title=\"Convert this dataframe to an interactive table.\"\n",
              "              style=\"display:none;\">\n",
              "        \n",
              "  <svg xmlns=\"http://www.w3.org/2000/svg\" height=\"24px\"viewBox=\"0 0 24 24\"\n",
              "       width=\"24px\">\n",
              "    <path d=\"M0 0h24v24H0V0z\" fill=\"none\"/>\n",
              "    <path d=\"M18.56 5.44l.94 2.06.94-2.06 2.06-.94-2.06-.94-.94-2.06-.94 2.06-2.06.94zm-11 1L8.5 8.5l.94-2.06 2.06-.94-2.06-.94L8.5 2.5l-.94 2.06-2.06.94zm10 10l.94 2.06.94-2.06 2.06-.94-2.06-.94-.94-2.06-.94 2.06-2.06.94z\"/><path d=\"M17.41 7.96l-1.37-1.37c-.4-.4-.92-.59-1.43-.59-.52 0-1.04.2-1.43.59L10.3 9.45l-7.72 7.72c-.78.78-.78 2.05 0 2.83L4 21.41c.39.39.9.59 1.41.59.51 0 1.02-.2 1.41-.59l7.78-7.78 2.81-2.81c.8-.78.8-2.07 0-2.86zM5.41 20L4 18.59l7.72-7.72 1.47 1.35L5.41 20z\"/>\n",
              "  </svg>\n",
              "      </button>\n",
              "      \n",
              "  <style>\n",
              "    .colab-df-container {\n",
              "      display:flex;\n",
              "      flex-wrap:wrap;\n",
              "      gap: 12px;\n",
              "    }\n",
              "\n",
              "    .colab-df-convert {\n",
              "      background-color: #E8F0FE;\n",
              "      border: none;\n",
              "      border-radius: 50%;\n",
              "      cursor: pointer;\n",
              "      display: none;\n",
              "      fill: #1967D2;\n",
              "      height: 32px;\n",
              "      padding: 0 0 0 0;\n",
              "      width: 32px;\n",
              "    }\n",
              "\n",
              "    .colab-df-convert:hover {\n",
              "      background-color: #E2EBFA;\n",
              "      box-shadow: 0px 1px 2px rgba(60, 64, 67, 0.3), 0px 1px 3px 1px rgba(60, 64, 67, 0.15);\n",
              "      fill: #174EA6;\n",
              "    }\n",
              "\n",
              "    [theme=dark] .colab-df-convert {\n",
              "      background-color: #3B4455;\n",
              "      fill: #D2E3FC;\n",
              "    }\n",
              "\n",
              "    [theme=dark] .colab-df-convert:hover {\n",
              "      background-color: #434B5C;\n",
              "      box-shadow: 0px 1px 3px 1px rgba(0, 0, 0, 0.15);\n",
              "      filter: drop-shadow(0px 1px 2px rgba(0, 0, 0, 0.3));\n",
              "      fill: #FFFFFF;\n",
              "    }\n",
              "  </style>\n",
              "\n",
              "      <script>\n",
              "        const buttonEl =\n",
              "          document.querySelector('#df-d966bbe0-1310-490c-9a1c-ae82a2adf2d1 button.colab-df-convert');\n",
              "        buttonEl.style.display =\n",
              "          google.colab.kernel.accessAllowed ? 'block' : 'none';\n",
              "\n",
              "        async function convertToInteractive(key) {\n",
              "          const element = document.querySelector('#df-d966bbe0-1310-490c-9a1c-ae82a2adf2d1');\n",
              "          const dataTable =\n",
              "            await google.colab.kernel.invokeFunction('convertToInteractive',\n",
              "                                                     [key], {});\n",
              "          if (!dataTable) return;\n",
              "\n",
              "          const docLinkHtml = 'Like what you see? Visit the ' +\n",
              "            '<a target=\"_blank\" href=https://colab.research.google.com/notebooks/data_table.ipynb>data table notebook</a>'\n",
              "            + ' to learn more about interactive tables.';\n",
              "          element.innerHTML = '';\n",
              "          dataTable['output_type'] = 'display_data';\n",
              "          await google.colab.output.renderOutput(dataTable, element);\n",
              "          const docLink = document.createElement('div');\n",
              "          docLink.innerHTML = docLinkHtml;\n",
              "          element.appendChild(docLink);\n",
              "        }\n",
              "      </script>\n",
              "    </div>\n",
              "  </div>\n",
              "  "
            ]
          },
          "metadata": {},
          "execution_count": 61
        }
      ]
    }
  ]
}