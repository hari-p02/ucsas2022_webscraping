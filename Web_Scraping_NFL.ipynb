{
 "cells": [
  {
   "cell_type": "markdown",
   "id": "4e60c5d7",
   "metadata": {},
   "source": [
    "# Web Scraping Using Requests & BeautifulSoup - Hari Patchigolla"
   ]
  },
  {
   "cell_type": "markdown",
   "id": "d485c695",
   "metadata": {
    "jp-MarkdownHeadingCollapsed": true,
    "tags": []
   },
   "source": [
    "# Installation"
   ]
  },
  {
   "cell_type": "code",
   "execution_count": null,
   "id": "edc943bf",
   "metadata": {},
   "outputs": [],
   "source": [
    "! pip install requests"
   ]
  },
  {
   "cell_type": "code",
   "execution_count": null,
   "id": "710ec32b",
   "metadata": {},
   "outputs": [],
   "source": [
    "! pip install beautifulsoup4"
   ]
  },
  {
   "cell_type": "code",
   "execution_count": null,
   "id": "23857bd5-9959-4446-8eee-86031106749c",
   "metadata": {},
   "outputs": [],
   "source": [
    "! pip install pandas"
   ]
  },
  {
   "cell_type": "markdown",
   "id": "c2544d1c",
   "metadata": {
    "jp-MarkdownHeadingCollapsed": true,
    "tags": []
   },
   "source": [
    "# Importing Packages"
   ]
  },
  {
   "cell_type": "code",
   "execution_count": 2,
   "id": "63088616",
   "metadata": {},
   "outputs": [],
   "source": [
    "import requests\n",
    "from bs4 import BeautifulSoup as bs\n",
    "import pandas as pd"
   ]
  },
  {
   "cell_type": "markdown",
   "id": "5240de0f-c2f9-47d9-8c4f-7c4f264dd354",
   "metadata": {
    "tags": []
   },
   "source": [
    "# Making an NFL Quarterback Dataset\n",
    "\n",
    "There are 4 main steps:\n",
    "1) Find a data source (a webpage)\n",
    "2) Get the HTML of the webpage\n",
    "3) Parse through the HTML and locate where specific data is\n",
    "      - CSS Selectors\n",
    "4) Store your data\n"
   ]
  },
  {
   "cell_type": "markdown",
   "id": "4cc7dbd6-b010-4f6d-90b1-c3169dd55072",
   "metadata": {
    "jp-MarkdownHeadingCollapsed": true,
    "tags": []
   },
   "source": [
    "## 1) Find a data source (a webpage)\n",
    "\n",
    "For this workshop we will be scrping our data from: https://www.nfl.com/stats/player-stats/category/passing/2021/reg/all/passingyards/DESC\n",
    "\n",
    "Let's explore the webpage a little bit:\n",
    "- Notice all the available data\n",
    "- Notice the change in the url when clicking on a specific player"
   ]
  },
  {
   "cell_type": "markdown",
   "id": "6218dfee-f9e9-4a7b-a9ab-fac3068b1d04",
   "metadata": {
    "jp-MarkdownHeadingCollapsed": true,
    "tags": []
   },
   "source": [
    "## 2) Get the HTML of the webpage\n",
    "\n",
    "[`requests.get()`](https://www.w3schools.com/python/ref_requests_get.asp)\n",
    "\n",
    "This methods sends a HTTP GET requests to specified url and returns to us a response object"
   ]
  },
  {
   "cell_type": "code",
   "execution_count": 3,
   "id": "a34fa25b",
   "metadata": {},
   "outputs": [],
   "source": [
    "base_url = \"https://www.nfl.com/\"\n",
    "add_on = \"stats/player-stats/category/passing/2021/reg/all/passingyards/DESC\"\n",
    "\n",
    "response = requests.get(base_url + add_on)"
   ]
  },
  {
   "cell_type": "code",
   "execution_count": 4,
   "id": "86d954f5-38ea-4b4f-8ed3-f45aba4e2dcf",
   "metadata": {},
   "outputs": [
    {
     "data": {
      "text/plain": [
       "requests.models.Response"
      ]
     },
     "execution_count": 4,
     "metadata": {},
     "output_type": "execute_result"
    }
   ],
   "source": [
    "type(response)"
   ]
  },
  {
   "cell_type": "markdown",
   "id": "0a2f11ed-163a-42a1-9cf5-8e42e16addf0",
   "metadata": {},
   "source": [
    "A `200` status code means a succesful response"
   ]
  },
  {
   "cell_type": "code",
   "execution_count": 5,
   "id": "752e17b6-d745-40ee-9849-b6fccb97b3fe",
   "metadata": {},
   "outputs": [
    {
     "data": {
      "text/plain": [
       "200"
      ]
     },
     "execution_count": 5,
     "metadata": {},
     "output_type": "execute_result"
    }
   ],
   "source": [
    "response.status_code"
   ]
  },
  {
   "cell_type": "markdown",
   "id": "d270521b-a548-4455-8e3c-a1b5423350ea",
   "metadata": {},
   "source": [
    "`response.content` this will return to us the HTML content"
   ]
  },
  {
   "cell_type": "code",
   "execution_count": 7,
   "id": "78388126-6f65-49d0-89fe-9342bf888655",
   "metadata": {},
   "outputs": [],
   "source": [
    "# response.content"
   ]
  },
  {
   "cell_type": "markdown",
   "id": "afc0ce55-d661-44e4-8f33-1e49be4ac953",
   "metadata": {
    "jp-MarkdownHeadingCollapsed": true,
    "tags": []
   },
   "source": [
    "## 3) Parse through the HTML and locate where specific data is with the help of CSS Selectors\n",
    "\n",
    "The `BeautifulSoup` object lets us do this"
   ]
  },
  {
   "cell_type": "code",
   "execution_count": 8,
   "id": "ce23f24b",
   "metadata": {},
   "outputs": [],
   "source": [
    "soup_player_stats = bs(response.content, 'html.parser') "
   ]
  },
  {
   "cell_type": "code",
   "execution_count": 9,
   "id": "dde2fb70-66c2-4324-926b-e6324941f94e",
   "metadata": {},
   "outputs": [
    {
     "data": {
      "text/plain": [
       "bs4.BeautifulSoup"
      ]
     },
     "execution_count": 9,
     "metadata": {},
     "output_type": "execute_result"
    }
   ],
   "source": [
    "type(soup_player_stats)"
   ]
  },
  {
   "cell_type": "markdown",
   "id": "621d14b1-559b-450c-ab9f-24f96e9d25bd",
   "metadata": {},
   "source": [
    "`.select()`\n",
    "\n",
    "One of the methods provided by a `BeautifulSoup` object is the `.select()` methods that takes in a CSS selector"
   ]
  },
  {
   "cell_type": "code",
   "execution_count": 10,
   "id": "1b05c211-9fe2-46db-ae1a-a9697cb2a949",
   "metadata": {},
   "outputs": [],
   "source": [
    "tbody_lst = soup_player_stats.select('#main-content > section.d3-l-grid--outer.d3-l-section-row > div > div > div > div > table > tbody')"
   ]
  },
  {
   "cell_type": "code",
   "execution_count": 12,
   "id": "9ed3fbd3-7cfe-4fad-82c1-d49c8f11cef5",
   "metadata": {},
   "outputs": [],
   "source": [
    "# tbody_lst"
   ]
  },
  {
   "cell_type": "code",
   "execution_count": 13,
   "id": "4c84118d",
   "metadata": {},
   "outputs": [
    {
     "data": {
      "text/plain": [
       "1"
      ]
     },
     "execution_count": 13,
     "metadata": {},
     "output_type": "execute_result"
    }
   ],
   "source": [
    "len(tbody_lst)"
   ]
  },
  {
   "cell_type": "markdown",
   "id": "5a61b550-e3b4-481a-9257-b7b9990e2c08",
   "metadata": {},
   "source": [
    "The length of the list is only `1` because we selectoed for ontl the `tbody` HTML tag. Lets fix this by also selecting for the `tr` tags"
   ]
  },
  {
   "cell_type": "code",
   "execution_count": 14,
   "id": "423fc278",
   "metadata": {},
   "outputs": [
    {
     "data": {
      "text/plain": [
       "25"
      ]
     },
     "execution_count": 14,
     "metadata": {},
     "output_type": "execute_result"
    }
   ],
   "source": [
    "tr_lst = tbody_lst[0].select('tr')\n",
    "len(tr_lst)"
   ]
  },
  {
   "cell_type": "code",
   "execution_count": 16,
   "id": "16193fa8-48ac-4afb-8b49-20c06075e65c",
   "metadata": {},
   "outputs": [],
   "source": [
    "# tr_lst"
   ]
  },
  {
   "cell_type": "markdown",
   "id": "0e1ff677-6412-472b-8552-c1631aa5fcea",
   "metadata": {},
   "source": [
    "Now lets just focus on the first element of the dataset, which is the row on Tom Brady.\n",
    "\n",
    "Notice how there are a bunch of `td` tags"
   ]
  },
  {
   "cell_type": "code",
   "execution_count": 18,
   "id": "2dd75ce4",
   "metadata": {},
   "outputs": [
    {
     "data": {
      "text/plain": [
       "[<td scope=\"row\" tabindex=\"0\"><div class=\"d3-o-media-object d3-o-media-object--vertical-center\"><figure class=\"d3-o-media-object__figure d3-o-player-headshot\"><picture is-lazy=\"/t_lazy\"><!--[if IE 9]><video style=\"display:none\"><![endif]--><source media=\"(min-width:1024px)\" srcset=\"https://static.www.nfl.com/image/private/t_headshot_desktop/t_lazy/f_auto/league/q7dpdlxyu5rs05rgh1le 1x, https://static.www.nfl.com/image/private/t_headshot_desktop_2x/t_lazy/f_auto/league/q7dpdlxyu5rs05rgh1le 2x, https://static.www.nfl.com/image/private/t_headshot_desktop_3x/t_lazy/f_auto/league/q7dpdlxyu5rs05rgh1le\"/><source media=\"(min-width:768px)\" srcset=\"https://static.www.nfl.com/image/private/t_headshot_tablet/t_lazy/f_auto/league/q7dpdlxyu5rs05rgh1le 1x, https://static.www.nfl.com/image/private/t_headshot_tablet_2x/t_lazy/f_auto/league/q7dpdlxyu5rs05rgh1le 2x, https://static.www.nfl.com/image/private/t_headshot_tablet_3x/t_lazy/f_auto/league/q7dpdlxyu5rs05rgh1le\"/><source srcset=\"https://static.www.nfl.com/image/private/t_person_squared_mobile/t_lazy/f_auto/league/q7dpdlxyu5rs05rgh1le 1x, https://static.www.nfl.com/image/private/t_person_squared_mobile_2x/t_lazy/f_auto/league/q7dpdlxyu5rs05rgh1le 2x, https://static.www.nfl.com/image/private/t_person_squared_mobile_3x/t_lazy/f_auto/league/q7dpdlxyu5rs05rgh1le\"/><!--[if IE 9]></video><![endif]--><img alt=\"\" class=\"img-responsive\" src=\"https://static.www.nfl.com/image/private/t_person_squared_mobile/t_lazy/f_auto/league/q7dpdlxyu5rs05rgh1le\"/></picture></figure><div class=\"d3-o-media-object__body\"><a aria-label=\"Tom Brady profile page\" class=\"d3-o-player-fullname nfl-o-cta--link\" href=\"/players/tom-brady/\"> Tom Brady </a></div></div></td>,\n",
       " <td class=\"selected\">5316</td>,\n",
       " <td>7.4</td>,\n",
       " <td>719</td>,\n",
       " <td>485</td>,\n",
       " <td>67.4</td>,\n",
       " <td>43</td>,\n",
       " <td>12</td>,\n",
       " <td>102.1</td>,\n",
       " <td>269</td>,\n",
       " <td>37.4</td>,\n",
       " <td>75</td>,\n",
       " <td>10</td>,\n",
       " <td>62</td>,\n",
       " <td>22</td>,\n",
       " <td>144</td>]"
      ]
     },
     "execution_count": 18,
     "metadata": {},
     "output_type": "execute_result"
    }
   ],
   "source": [
    "td_lst = tr_lst[0].select('td')\n",
    "td_lst"
   ]
  },
  {
   "cell_type": "markdown",
   "id": "48ca1129-fac0-4473-bd12-fb2f53da255a",
   "metadata": {},
   "source": [
    "`.string`\n",
    "\n",
    "Notice how there us an `a` tag in the first element, which name the name `Tom Brady`, we can use the `.string` command to extract this."
   ]
  },
  {
   "cell_type": "code",
   "execution_count": 22,
   "id": "c9be5840",
   "metadata": {},
   "outputs": [
    {
     "data": {
      "text/plain": [
       "' Tom Brady '"
      ]
     },
     "execution_count": 22,
     "metadata": {},
     "output_type": "execute_result"
    }
   ],
   "source": [
    "td_lst[0].a.string"
   ]
  },
  {
   "cell_type": "markdown",
   "id": "af8b2674-46c9-474a-9798-76a98342d084",
   "metadata": {},
   "source": [
    "As for the rest of the rest of the players in the `tr_lst` lets just map through all the ements and use `.string` to get thats data.\n",
    "\n",
    "This is a bit more python realted so I won't go into much deatial on this."
   ]
  },
  {
   "cell_type": "code",
   "execution_count": 26,
   "id": "1bd1ef26",
   "metadata": {},
   "outputs": [
    {
     "data": {
      "text/plain": [
       "[<td class=\"selected\">5316</td>,\n",
       " <td>7.4</td>,\n",
       " <td>719</td>,\n",
       " <td>485</td>,\n",
       " <td>67.4</td>,\n",
       " <td>43</td>,\n",
       " <td>12</td>,\n",
       " <td>102.1</td>,\n",
       " <td>269</td>,\n",
       " <td>37.4</td>,\n",
       " <td>75</td>,\n",
       " <td>10</td>,\n",
       " <td>62</td>,\n",
       " <td>22</td>,\n",
       " <td>144</td>]"
      ]
     },
     "execution_count": 26,
     "metadata": {},
     "output_type": "execute_result"
    }
   ],
   "source": [
    "td_lst[1:]"
   ]
  },
  {
   "cell_type": "code",
   "execution_count": 28,
   "id": "f4151370",
   "metadata": {},
   "outputs": [
    {
     "name": "stdout",
     "output_type": "stream",
     "text": [
      " Tom Brady  ['5316', '7.4', '719', '485', '67.4', '43', '12', '102.1', '269', '37.4', '75', '10', '62', '22', '144']\n",
      " Justin Herbert  ['5014', '7.5', '672', '443', '65.9', '38', '15', '97.7', '256', '38.1', '53', '15', '72', '31', '214']\n",
      " Matthew Stafford  ['4886', '8.1', '601', '404', '67.2', '41', '17', '102.9', '233', '38.8', '65', '18', '79', '30', '243']\n",
      " Patrick Mahomes  ['4839', '7.4', '658', '436', '66.3', '37', '13', '98.4', '260', '39.5', '58', '11', '75', '28', '146']\n",
      " Derek Carr  ['4804', '7.7', '626', '428', '68.4', '23', '14', '94', '217', '34.7', '67', '10', '61', '40', '241']\n",
      " Joe Burrow  ['4611', '8.9', '520', '366', '70.4', '34', '14', '108.3', '202', '38.8', '60', '15', '82', '51', '370']\n",
      " Dak Prescott  ['4449', '7.5', '596', '410', '68.8', '37', '10', '104.2', '227', '38.1', '55', '7', '51', '30', '144']\n",
      " Josh Allen  ['4407', '6.8', '646', '409', '63.3', '36', '15', '92.2', '234', '36.2', '51', '8', '61', '26', '164']\n",
      " Kirk Cousins  ['4221', '7.5', '561', '372', '66.3', '33', '7', '103.1', '192', '34.2', '60', '10', '64', '28', '197']\n",
      " Aaron Rodgers  ['4115', '7.8', '531', '366', '68.9', '37', '4', '111.9', '213', '40.1', '55', '10', '75', '30', '188']\n",
      " Matt Ryan  ['3968', '7.1', '560', '375', '67', '20', '12', '90.4', '195', '34.8', '44', '7', '64', '40', '274']\n",
      " Jimmy Garoppolo  ['3810', '8.6', '441', '301', '68.2', '20', '12', '98.7', '172', '39', '54', '8', '83', '29', '201']\n",
      " Mac Jones  ['3801', '7.3', '521', '352', '67.6', '22', '13', '92.5', '177', '34', '52', '6', '75', '28', '241']\n",
      " Kyler Murray  ['3787', '7.9', '481', '333', '69.2', '24', '10', '100.6', '172', '35.8', '49', '9', '77', '31', '286']\n",
      " Ben Roethlisberger  ['3740', '6.2', '605', '390', '64.5', '22', '10', '86.8', '188', '31.1', '39', '9', '59', '38', '239']\n",
      " Ryan Tannehill  ['3734', '7', '531', '357', '67.2', '21', '14', '89.6', '192', '36.2', '35', '7', '57', '47', '327']\n",
      " Trevor Lawrence  ['3641', '6', '602', '359', '59.6', '12', '17', '71.9', '177', '29.4', '43', '5', '58', '32', '238']\n",
      " Carson Wentz  ['3563', '6.9', '516', '322', '62.4', '27', '7', '94.6', '165', '32', '42', '9', '76', '32', '227']\n",
      " Taylor Heinicke  ['3419', '6.9', '494', '321', '65', '20', '15', '85.9', '167', '33.8', '40', '6', '73', '38', '278']\n",
      " Jared Goff  ['3245', '6.6', '494', '332', '67.2', '19', '8', '91.5', '162', '32.8', '39', '3', '63', '35', '280']\n",
      " Jalen Hurts  ['3144', '7.3', '432', '265', '61.3', '16', '9', '87.2', '143', '33.1', '44', '5', '91', '26', '150']\n",
      " Russell Wilson  ['3113', '7.8', '400', '259', '64.8', '25', '6', '103', '135', '33.8', '45', '10', '69', '33', '266']\n",
      " Teddy Bridgewater  ['3052', '7.2', '426', '285', '66.9', '18', '7', '94.9', '146', '34.3', '33', '5', '64', '31', '211']\n",
      " Baker Mayfield  ['3010', '7.2', '418', '253', '60.5', '17', '13', '83.1', '143', '34.2', '42', '9', '71', '43', '269']\n",
      " Lamar Jackson  ['2882', '7.5', '382', '246', '64.4', '16', '13', '87', '135', '35.3', '41', '5', '49', '38', '190']\n"
     ]
    }
   ],
   "source": [
    "for players in tr_lst:\n",
    "    print(players.select('td')[0].a.string, list(map(lambda x: x.string, players.select('td')[1:])))"
   ]
  },
  {
   "cell_type": "markdown",
   "id": "ae93acc7-ec0d-460f-98b8-01e8968ce1b7",
   "metadata": {},
   "source": [
    "Now, we will \"click\" on each of the players and extract data from their specific page on nfl.com\n",
    "\n",
    "Notice how the `href` part of the `<a>` tag is the relative url for Tom Brady's part of the webpages"
   ]
  },
  {
   "cell_type": "code",
   "execution_count": 29,
   "id": "d5622a95-3ebc-424b-8153-08c89c8b4f68",
   "metadata": {},
   "outputs": [
    {
     "data": {
      "text/plain": [
       "<a aria-label=\"Tom Brady profile page\" class=\"d3-o-player-fullname nfl-o-cta--link\" href=\"/players/tom-brady/\"> Tom Brady </a>"
      ]
     },
     "execution_count": 29,
     "metadata": {},
     "output_type": "execute_result"
    }
   ],
   "source": [
    "td_lst[0].a"
   ]
  },
  {
   "cell_type": "markdown",
   "id": "84f33d98-b988-4f58-bbb6-7462ea515fb5",
   "metadata": {},
   "source": [
    "We can extract this relative url using the following syntax"
   ]
  },
  {
   "cell_type": "code",
   "execution_count": 30,
   "id": "89ba2dac",
   "metadata": {},
   "outputs": [
    {
     "data": {
      "text/plain": [
       "'/players/tom-brady/'"
      ]
     },
     "execution_count": 30,
     "metadata": {},
     "output_type": "execute_result"
    }
   ],
   "source": [
    "td_lst[0].a['href']"
   ]
  },
  {
   "cell_type": "markdown",
   "id": "9072c9c4-0044-4625-9e7c-fd06dc3d51c8",
   "metadata": {},
   "source": [
    "Because we have this `href` relative url we are able to \"click\" on this link and extract data from this webpage as follows.\n",
    "\n",
    "Note: The CSS Selector `.nfl-c-player-info__value` slectors for all the data shown in the `PLAYER INFO` table"
   ]
  },
  {
   "cell_type": "code",
   "execution_count": 32,
   "id": "0368e0c5-3692-4ff8-b0e6-239b2f5e1fc2",
   "metadata": {},
   "outputs": [
    {
     "name": "stdout",
     "output_type": "stream",
     "text": [
      " Tom Brady  ['6-4', '225', None, None, '23', 'Michigan', '45', None]\n"
     ]
    }
   ],
   "source": [
    "base_url = \"https://www.nfl.com\"\n",
    "add_on = td_lst[0].a['href']\n",
    "temp_player_stats = requests.get(base_url + add_on)\n",
    "temp_soup_player_stats = bs(temp_player_stats.text, 'html.parser')\n",
    "print(td_lst[0].a.string, list(map(lambda x: x.string, temp_soup_player_stats.select('.nfl-c-player-info__value'))))"
   ]
  },
  {
   "cell_type": "markdown",
   "id": "4e6d9921-5b69-4a12-bf19-c1811eb37c5e",
   "metadata": {},
   "source": [
    "Now lets just do that same thing as up above but we will \"click\" through all of the players"
   ]
  },
  {
   "cell_type": "code",
   "execution_count": 33,
   "id": "f2677408",
   "metadata": {},
   "outputs": [
    {
     "name": "stdout",
     "output_type": "stream",
     "text": [
      " Tom Brady  ['6-4', '225', None, None, '23', 'Michigan', '45', None]\n",
      " Justin Herbert  ['6-6', '236', '33', '10', '3', 'Oregon', '24', 'Eugene, OR']\n",
      " Matthew Stafford  ['6-3', '220', '33 1/4', '10', '14', 'Georgia', '34', None]\n",
      " Patrick Mahomes  ['6-2', '225', '33 1/4', '9 1/4', '6', 'Texas Tech', '27', None]\n",
      " Derek Carr  ['6-3', '210', '31 1/2', '9 1/4', '9', 'Fresno State', '31', None]\n",
      " Joe Burrow  ['6-4', '215', '31', '9', '3', 'LSU', '25', 'Athens, OH']\n",
      " Dak Prescott  ['6-2', '238', '32 1/4', '10', '7', 'Mississippi State', '29', None]\n",
      " Josh Allen  ['6-5', '237', '33 1/4', '10 1/4', '5', 'Wyoming', '26', 'Firebaugh, CA']\n",
      " Kirk Cousins  ['6-3', '205', '31 3/4', '10', '11', 'Michigan State', '34', None]\n",
      " Aaron Rodgers  ['6-2', '225', None, None, '18', 'California', '38', None]\n",
      " Matt Ryan  ['6-4', '220', '32 3/4', '9 1/2', '15', 'Boston College', '37', 'Exton, PA']\n",
      " Jimmy Garoppolo  ['6-2', '225', '31', '9 1/4', '9', 'Eastern Illinois', '30', None]\n",
      " Mac Jones  ['6-3', '217', '32 3/4', '9 3/4', '2', 'Alabama', '24', 'Jacksonville, FL']\n",
      " Kyler Murray  ['5-10', '207', '28 1/2', '9 1/2', '4', 'Oklahoma', '25', 'Allen, TX']\n",
      " Ben Roethlisberger  ['6-5', '240', None, None, '18', 'Miami (Ohio)', None]\n",
      " Ryan Tannehill  ['6-4', '217', '32 3/4', '9', '11', 'Texas A&M', '34', None]\n",
      " Trevor Lawrence  ['6-6', '213', '31 1/2', '10', '2', 'Clemson', '23', 'Cartersville, GA']\n",
      " Carson Wentz  ['6-5', '237', '33 1/4', '10', '7', 'North Dakota State', '29', None]\n",
      " Taylor Heinicke  ['6-1', '210', None, None, '5', 'Old Dominion', '29', None]\n",
      " Jared Goff  ['6-4', '217', '32 3/4', '9', '7', 'California', '27', None]\n",
      " Jalen Hurts  ['6-1', '223', '31 3/4', '9 3/4', '3', 'Oklahoma', '24', 'Houston, TX']\n",
      " Russell Wilson  ['5-11', '215', '31', '10 1/4', '11', 'Wisconsin', '33', None]\n",
      " Teddy Bridgewater  ['6-2', '212', '33', '9 1/4', '9', 'Louisville', '29', None]\n",
      " Baker Mayfield  ['6-1', '215', '30 1/4', '9 1/4', '5', 'Oklahoma', '27', 'Austin, TX']\n",
      " Lamar Jackson  ['6-2', '230', '33 1/4', '9 1/2', '5', 'Louisville', '25', 'Pompano Beach, FL']\n"
     ]
    }
   ],
   "source": [
    "for players in tr_lst: #.nfl-c-player-info__value\n",
    "    base_url = \"https://www.nfl.com\"\n",
    "    add_on = players.select('td')[0].a['href']\n",
    "    temp_player_stats = requests.get(base_url + add_on)\n",
    "    temp_soup_player_stats = bs(temp_player_stats.text, 'html.parser')\n",
    "    print(players.select('td')[0].a.string, list(map(lambda x: x.string, temp_soup_player_stats.select('.nfl-c-player-info__value'))))"
   ]
  },
  {
   "cell_type": "markdown",
   "id": "63330bad-7c7e-468f-906a-ee01f534c8de",
   "metadata": {
    "jp-MarkdownHeadingCollapsed": true,
    "tags": []
   },
   "source": [
    "## 4) Store your data\n",
    "\n",
    "There is nothing new here expect for the fact that I am appending values to the proper list"
   ]
  },
  {
   "cell_type": "code",
   "execution_count": 36,
   "id": "84b22c03",
   "metadata": {},
   "outputs": [],
   "source": [
    "from collections import defaultdict"
   ]
  },
  {
   "cell_type": "code",
   "execution_count": 46,
   "id": "a8ce0958-d1fc-4881-8e69-5865093a4367",
   "metadata": {},
   "outputs": [],
   "source": [
    "data = defaultdict(list)"
   ]
  },
  {
   "cell_type": "code",
   "execution_count": 47,
   "id": "789462a8",
   "metadata": {},
   "outputs": [
    {
     "name": "stdout",
     "output_type": "stream",
     "text": [
      " Tom Brady \n",
      " Justin Herbert \n",
      " Matthew Stafford \n",
      " Patrick Mahomes \n",
      " Derek Carr \n",
      " Joe Burrow \n",
      " Dak Prescott \n",
      " Josh Allen \n",
      " Kirk Cousins \n",
      " Aaron Rodgers \n",
      " Matt Ryan \n",
      " Jimmy Garoppolo \n",
      " Mac Jones \n",
      " Kyler Murray \n",
      " Ben Roethlisberger \n",
      " Ryan Tannehill \n",
      " Trevor Lawrence \n",
      " Carson Wentz \n",
      " Taylor Heinicke \n",
      " Jared Goff \n",
      " Jalen Hurts \n",
      " Russell Wilson \n",
      " Teddy Bridgewater \n",
      " Baker Mayfield \n",
      " Lamar Jackson \n"
     ]
    }
   ],
   "source": [
    "for players in tr_lst:\n",
    "    p_name = players.select('td')[0].a.string\n",
    "    print(p_name)\n",
    "    data[\"player_name\"].append(p_name)\n",
    "    stats_1st = list(map(lambda x: x.string, players.select('td')[1:]))\n",
    "    data[\"Pass_Yds\"].append(stats_1st[0]) \n",
    "    data[\"Yds_Att\"].append(stats_1st[1]) \n",
    "    data[\"Att\"].append(stats_1st[2])\n",
    "    data[\"Cmp\"].append(stats_1st[3]) \n",
    "    data[\"Cmp_per\"].append(stats_1st[4])\n",
    "    data[\"TD\"].append(stats_1st[5]) \n",
    "    data[\"INT\"].append(stats_1st[6]) \n",
    "    data[\"Rate\"].append(stats_1st[7]) \n",
    "    data[\"_1st\"].append(stats_1st[8]) \n",
    "    data[\"_1st_per\"].append(stats_1st[9]) \n",
    "    data[\"_20_plus\"].append(stats_1st[10])\n",
    "    data[\"_40_plus\"].append(stats_1st[11]) \n",
    "    data[\"Lng\"].append(stats_1st[12]) \n",
    "    data[\"Sck\"].append(stats_1st[13])\n",
    "    data[\"SckY\"].append(stats_1st[14])\n",
    "    \n",
    "    base_url = \"https://www.nfl.com\"\n",
    "    add_on = players.select('td')[0].a['href']\n",
    "    temp_player_stats = requests.get(base_url + add_on)\n",
    "    temp_soup_player_stats = bs(temp_player_stats.text, 'html.parser')\n",
    "    \n",
    "   \n",
    "    player_info = list(map(lambda x: x.string, temp_soup_player_stats.select('.nfl-c-player-info__value'))) \n",
    "    data[\"player_height\"].append(player_info[0]) \n",
    "    data[\"player_weight\"].append(player_info[1]) \n",
    "    data[\"player_arms\"].append(player_info[2]) \n",
    "    data[\"player_hands\"].append(player_info[3]) \n",
    "    data[\"player_exp\"].append(player_info[4]) \n",
    "    data[\"player_college\"].append(player_info[5]) \n",
    "    data[\"player_age\"].append(player_info[6]) \n",
    "    if p_name.strip() == \"Ben Roethlisberger\":\n",
    "        data[\"player_hometown\"].append(None) \n",
    "    else:\n",
    "        data[\"player_hometown\"].append(player_info[7]) "
   ]
  },
  {
   "cell_type": "code",
   "execution_count": 49,
   "id": "a8d54353",
   "metadata": {},
   "outputs": [],
   "source": [
    "df = pd.DataFrame(data = data)"
   ]
  },
  {
   "cell_type": "code",
   "execution_count": 50,
   "id": "1b9e2732",
   "metadata": {},
   "outputs": [
    {
     "data": {
      "text/html": [
       "<div>\n",
       "<style scoped>\n",
       "    .dataframe tbody tr th:only-of-type {\n",
       "        vertical-align: middle;\n",
       "    }\n",
       "\n",
       "    .dataframe tbody tr th {\n",
       "        vertical-align: top;\n",
       "    }\n",
       "\n",
       "    .dataframe thead th {\n",
       "        text-align: right;\n",
       "    }\n",
       "</style>\n",
       "<table border=\"1\" class=\"dataframe\">\n",
       "  <thead>\n",
       "    <tr style=\"text-align: right;\">\n",
       "      <th></th>\n",
       "      <th>player_name</th>\n",
       "      <th>Pass_Yds</th>\n",
       "      <th>Yds_Att</th>\n",
       "      <th>Att</th>\n",
       "      <th>Cmp</th>\n",
       "      <th>Cmp_per</th>\n",
       "      <th>TD</th>\n",
       "      <th>INT</th>\n",
       "      <th>Rate</th>\n",
       "      <th>_1st</th>\n",
       "      <th>...</th>\n",
       "      <th>Sck</th>\n",
       "      <th>SckY</th>\n",
       "      <th>player_height</th>\n",
       "      <th>player_weight</th>\n",
       "      <th>player_arms</th>\n",
       "      <th>player_hands</th>\n",
       "      <th>player_exp</th>\n",
       "      <th>player_college</th>\n",
       "      <th>player_age</th>\n",
       "      <th>player_hometown</th>\n",
       "    </tr>\n",
       "  </thead>\n",
       "  <tbody>\n",
       "    <tr>\n",
       "      <th>0</th>\n",
       "      <td>Tom Brady</td>\n",
       "      <td>5316</td>\n",
       "      <td>7.4</td>\n",
       "      <td>719</td>\n",
       "      <td>485</td>\n",
       "      <td>67.4</td>\n",
       "      <td>43</td>\n",
       "      <td>12</td>\n",
       "      <td>102.1</td>\n",
       "      <td>269</td>\n",
       "      <td>...</td>\n",
       "      <td>22</td>\n",
       "      <td>144</td>\n",
       "      <td>6-4</td>\n",
       "      <td>225</td>\n",
       "      <td>None</td>\n",
       "      <td>None</td>\n",
       "      <td>23</td>\n",
       "      <td>Michigan</td>\n",
       "      <td>45</td>\n",
       "      <td>None</td>\n",
       "    </tr>\n",
       "    <tr>\n",
       "      <th>1</th>\n",
       "      <td>Justin Herbert</td>\n",
       "      <td>5014</td>\n",
       "      <td>7.5</td>\n",
       "      <td>672</td>\n",
       "      <td>443</td>\n",
       "      <td>65.9</td>\n",
       "      <td>38</td>\n",
       "      <td>15</td>\n",
       "      <td>97.7</td>\n",
       "      <td>256</td>\n",
       "      <td>...</td>\n",
       "      <td>31</td>\n",
       "      <td>214</td>\n",
       "      <td>6-6</td>\n",
       "      <td>236</td>\n",
       "      <td>33</td>\n",
       "      <td>10</td>\n",
       "      <td>3</td>\n",
       "      <td>Oregon</td>\n",
       "      <td>24</td>\n",
       "      <td>Eugene, OR</td>\n",
       "    </tr>\n",
       "    <tr>\n",
       "      <th>2</th>\n",
       "      <td>Matthew Stafford</td>\n",
       "      <td>4886</td>\n",
       "      <td>8.1</td>\n",
       "      <td>601</td>\n",
       "      <td>404</td>\n",
       "      <td>67.2</td>\n",
       "      <td>41</td>\n",
       "      <td>17</td>\n",
       "      <td>102.9</td>\n",
       "      <td>233</td>\n",
       "      <td>...</td>\n",
       "      <td>30</td>\n",
       "      <td>243</td>\n",
       "      <td>6-3</td>\n",
       "      <td>220</td>\n",
       "      <td>33 1/4</td>\n",
       "      <td>10</td>\n",
       "      <td>14</td>\n",
       "      <td>Georgia</td>\n",
       "      <td>34</td>\n",
       "      <td>None</td>\n",
       "    </tr>\n",
       "    <tr>\n",
       "      <th>3</th>\n",
       "      <td>Patrick Mahomes</td>\n",
       "      <td>4839</td>\n",
       "      <td>7.4</td>\n",
       "      <td>658</td>\n",
       "      <td>436</td>\n",
       "      <td>66.3</td>\n",
       "      <td>37</td>\n",
       "      <td>13</td>\n",
       "      <td>98.4</td>\n",
       "      <td>260</td>\n",
       "      <td>...</td>\n",
       "      <td>28</td>\n",
       "      <td>146</td>\n",
       "      <td>6-2</td>\n",
       "      <td>225</td>\n",
       "      <td>33 1/4</td>\n",
       "      <td>9 1/4</td>\n",
       "      <td>6</td>\n",
       "      <td>Texas Tech</td>\n",
       "      <td>27</td>\n",
       "      <td>None</td>\n",
       "    </tr>\n",
       "    <tr>\n",
       "      <th>4</th>\n",
       "      <td>Derek Carr</td>\n",
       "      <td>4804</td>\n",
       "      <td>7.7</td>\n",
       "      <td>626</td>\n",
       "      <td>428</td>\n",
       "      <td>68.4</td>\n",
       "      <td>23</td>\n",
       "      <td>14</td>\n",
       "      <td>94</td>\n",
       "      <td>217</td>\n",
       "      <td>...</td>\n",
       "      <td>40</td>\n",
       "      <td>241</td>\n",
       "      <td>6-3</td>\n",
       "      <td>210</td>\n",
       "      <td>31 1/2</td>\n",
       "      <td>9 1/4</td>\n",
       "      <td>9</td>\n",
       "      <td>Fresno State</td>\n",
       "      <td>31</td>\n",
       "      <td>None</td>\n",
       "    </tr>\n",
       "    <tr>\n",
       "      <th>5</th>\n",
       "      <td>Joe Burrow</td>\n",
       "      <td>4611</td>\n",
       "      <td>8.9</td>\n",
       "      <td>520</td>\n",
       "      <td>366</td>\n",
       "      <td>70.4</td>\n",
       "      <td>34</td>\n",
       "      <td>14</td>\n",
       "      <td>108.3</td>\n",
       "      <td>202</td>\n",
       "      <td>...</td>\n",
       "      <td>51</td>\n",
       "      <td>370</td>\n",
       "      <td>6-4</td>\n",
       "      <td>215</td>\n",
       "      <td>31</td>\n",
       "      <td>9</td>\n",
       "      <td>3</td>\n",
       "      <td>LSU</td>\n",
       "      <td>25</td>\n",
       "      <td>Athens, OH</td>\n",
       "    </tr>\n",
       "    <tr>\n",
       "      <th>6</th>\n",
       "      <td>Dak Prescott</td>\n",
       "      <td>4449</td>\n",
       "      <td>7.5</td>\n",
       "      <td>596</td>\n",
       "      <td>410</td>\n",
       "      <td>68.8</td>\n",
       "      <td>37</td>\n",
       "      <td>10</td>\n",
       "      <td>104.2</td>\n",
       "      <td>227</td>\n",
       "      <td>...</td>\n",
       "      <td>30</td>\n",
       "      <td>144</td>\n",
       "      <td>6-2</td>\n",
       "      <td>238</td>\n",
       "      <td>32 1/4</td>\n",
       "      <td>10</td>\n",
       "      <td>7</td>\n",
       "      <td>Mississippi State</td>\n",
       "      <td>29</td>\n",
       "      <td>None</td>\n",
       "    </tr>\n",
       "    <tr>\n",
       "      <th>7</th>\n",
       "      <td>Josh Allen</td>\n",
       "      <td>4407</td>\n",
       "      <td>6.8</td>\n",
       "      <td>646</td>\n",
       "      <td>409</td>\n",
       "      <td>63.3</td>\n",
       "      <td>36</td>\n",
       "      <td>15</td>\n",
       "      <td>92.2</td>\n",
       "      <td>234</td>\n",
       "      <td>...</td>\n",
       "      <td>26</td>\n",
       "      <td>164</td>\n",
       "      <td>6-5</td>\n",
       "      <td>237</td>\n",
       "      <td>33 1/4</td>\n",
       "      <td>10 1/4</td>\n",
       "      <td>5</td>\n",
       "      <td>Wyoming</td>\n",
       "      <td>26</td>\n",
       "      <td>Firebaugh, CA</td>\n",
       "    </tr>\n",
       "    <tr>\n",
       "      <th>8</th>\n",
       "      <td>Kirk Cousins</td>\n",
       "      <td>4221</td>\n",
       "      <td>7.5</td>\n",
       "      <td>561</td>\n",
       "      <td>372</td>\n",
       "      <td>66.3</td>\n",
       "      <td>33</td>\n",
       "      <td>7</td>\n",
       "      <td>103.1</td>\n",
       "      <td>192</td>\n",
       "      <td>...</td>\n",
       "      <td>28</td>\n",
       "      <td>197</td>\n",
       "      <td>6-3</td>\n",
       "      <td>205</td>\n",
       "      <td>31 3/4</td>\n",
       "      <td>10</td>\n",
       "      <td>11</td>\n",
       "      <td>Michigan State</td>\n",
       "      <td>34</td>\n",
       "      <td>None</td>\n",
       "    </tr>\n",
       "    <tr>\n",
       "      <th>9</th>\n",
       "      <td>Aaron Rodgers</td>\n",
       "      <td>4115</td>\n",
       "      <td>7.8</td>\n",
       "      <td>531</td>\n",
       "      <td>366</td>\n",
       "      <td>68.9</td>\n",
       "      <td>37</td>\n",
       "      <td>4</td>\n",
       "      <td>111.9</td>\n",
       "      <td>213</td>\n",
       "      <td>...</td>\n",
       "      <td>30</td>\n",
       "      <td>188</td>\n",
       "      <td>6-2</td>\n",
       "      <td>225</td>\n",
       "      <td>None</td>\n",
       "      <td>None</td>\n",
       "      <td>18</td>\n",
       "      <td>California</td>\n",
       "      <td>38</td>\n",
       "      <td>None</td>\n",
       "    </tr>\n",
       "    <tr>\n",
       "      <th>10</th>\n",
       "      <td>Matt Ryan</td>\n",
       "      <td>3968</td>\n",
       "      <td>7.1</td>\n",
       "      <td>560</td>\n",
       "      <td>375</td>\n",
       "      <td>67</td>\n",
       "      <td>20</td>\n",
       "      <td>12</td>\n",
       "      <td>90.4</td>\n",
       "      <td>195</td>\n",
       "      <td>...</td>\n",
       "      <td>40</td>\n",
       "      <td>274</td>\n",
       "      <td>6-4</td>\n",
       "      <td>220</td>\n",
       "      <td>32 3/4</td>\n",
       "      <td>9 1/2</td>\n",
       "      <td>15</td>\n",
       "      <td>Boston College</td>\n",
       "      <td>37</td>\n",
       "      <td>Exton, PA</td>\n",
       "    </tr>\n",
       "    <tr>\n",
       "      <th>11</th>\n",
       "      <td>Jimmy Garoppolo</td>\n",
       "      <td>3810</td>\n",
       "      <td>8.6</td>\n",
       "      <td>441</td>\n",
       "      <td>301</td>\n",
       "      <td>68.2</td>\n",
       "      <td>20</td>\n",
       "      <td>12</td>\n",
       "      <td>98.7</td>\n",
       "      <td>172</td>\n",
       "      <td>...</td>\n",
       "      <td>29</td>\n",
       "      <td>201</td>\n",
       "      <td>6-2</td>\n",
       "      <td>225</td>\n",
       "      <td>31</td>\n",
       "      <td>9 1/4</td>\n",
       "      <td>9</td>\n",
       "      <td>Eastern Illinois</td>\n",
       "      <td>30</td>\n",
       "      <td>None</td>\n",
       "    </tr>\n",
       "    <tr>\n",
       "      <th>12</th>\n",
       "      <td>Mac Jones</td>\n",
       "      <td>3801</td>\n",
       "      <td>7.3</td>\n",
       "      <td>521</td>\n",
       "      <td>352</td>\n",
       "      <td>67.6</td>\n",
       "      <td>22</td>\n",
       "      <td>13</td>\n",
       "      <td>92.5</td>\n",
       "      <td>177</td>\n",
       "      <td>...</td>\n",
       "      <td>28</td>\n",
       "      <td>241</td>\n",
       "      <td>6-3</td>\n",
       "      <td>217</td>\n",
       "      <td>32 3/4</td>\n",
       "      <td>9 3/4</td>\n",
       "      <td>2</td>\n",
       "      <td>Alabama</td>\n",
       "      <td>24</td>\n",
       "      <td>Jacksonville, FL</td>\n",
       "    </tr>\n",
       "    <tr>\n",
       "      <th>13</th>\n",
       "      <td>Kyler Murray</td>\n",
       "      <td>3787</td>\n",
       "      <td>7.9</td>\n",
       "      <td>481</td>\n",
       "      <td>333</td>\n",
       "      <td>69.2</td>\n",
       "      <td>24</td>\n",
       "      <td>10</td>\n",
       "      <td>100.6</td>\n",
       "      <td>172</td>\n",
       "      <td>...</td>\n",
       "      <td>31</td>\n",
       "      <td>286</td>\n",
       "      <td>5-10</td>\n",
       "      <td>207</td>\n",
       "      <td>28 1/2</td>\n",
       "      <td>9 1/2</td>\n",
       "      <td>4</td>\n",
       "      <td>Oklahoma</td>\n",
       "      <td>25</td>\n",
       "      <td>Allen, TX</td>\n",
       "    </tr>\n",
       "    <tr>\n",
       "      <th>14</th>\n",
       "      <td>Ben Roethlisberger</td>\n",
       "      <td>3740</td>\n",
       "      <td>6.2</td>\n",
       "      <td>605</td>\n",
       "      <td>390</td>\n",
       "      <td>64.5</td>\n",
       "      <td>22</td>\n",
       "      <td>10</td>\n",
       "      <td>86.8</td>\n",
       "      <td>188</td>\n",
       "      <td>...</td>\n",
       "      <td>38</td>\n",
       "      <td>239</td>\n",
       "      <td>6-5</td>\n",
       "      <td>240</td>\n",
       "      <td>None</td>\n",
       "      <td>None</td>\n",
       "      <td>18</td>\n",
       "      <td>Miami (Ohio)</td>\n",
       "      <td>None</td>\n",
       "      <td>None</td>\n",
       "    </tr>\n",
       "    <tr>\n",
       "      <th>15</th>\n",
       "      <td>Ryan Tannehill</td>\n",
       "      <td>3734</td>\n",
       "      <td>7</td>\n",
       "      <td>531</td>\n",
       "      <td>357</td>\n",
       "      <td>67.2</td>\n",
       "      <td>21</td>\n",
       "      <td>14</td>\n",
       "      <td>89.6</td>\n",
       "      <td>192</td>\n",
       "      <td>...</td>\n",
       "      <td>47</td>\n",
       "      <td>327</td>\n",
       "      <td>6-4</td>\n",
       "      <td>217</td>\n",
       "      <td>32 3/4</td>\n",
       "      <td>9</td>\n",
       "      <td>11</td>\n",
       "      <td>Texas A&amp;M</td>\n",
       "      <td>34</td>\n",
       "      <td>None</td>\n",
       "    </tr>\n",
       "    <tr>\n",
       "      <th>16</th>\n",
       "      <td>Trevor Lawrence</td>\n",
       "      <td>3641</td>\n",
       "      <td>6</td>\n",
       "      <td>602</td>\n",
       "      <td>359</td>\n",
       "      <td>59.6</td>\n",
       "      <td>12</td>\n",
       "      <td>17</td>\n",
       "      <td>71.9</td>\n",
       "      <td>177</td>\n",
       "      <td>...</td>\n",
       "      <td>32</td>\n",
       "      <td>238</td>\n",
       "      <td>6-6</td>\n",
       "      <td>213</td>\n",
       "      <td>31 1/2</td>\n",
       "      <td>10</td>\n",
       "      <td>2</td>\n",
       "      <td>Clemson</td>\n",
       "      <td>23</td>\n",
       "      <td>Cartersville, GA</td>\n",
       "    </tr>\n",
       "    <tr>\n",
       "      <th>17</th>\n",
       "      <td>Carson Wentz</td>\n",
       "      <td>3563</td>\n",
       "      <td>6.9</td>\n",
       "      <td>516</td>\n",
       "      <td>322</td>\n",
       "      <td>62.4</td>\n",
       "      <td>27</td>\n",
       "      <td>7</td>\n",
       "      <td>94.6</td>\n",
       "      <td>165</td>\n",
       "      <td>...</td>\n",
       "      <td>32</td>\n",
       "      <td>227</td>\n",
       "      <td>6-5</td>\n",
       "      <td>237</td>\n",
       "      <td>33 1/4</td>\n",
       "      <td>10</td>\n",
       "      <td>7</td>\n",
       "      <td>North Dakota State</td>\n",
       "      <td>29</td>\n",
       "      <td>None</td>\n",
       "    </tr>\n",
       "    <tr>\n",
       "      <th>18</th>\n",
       "      <td>Taylor Heinicke</td>\n",
       "      <td>3419</td>\n",
       "      <td>6.9</td>\n",
       "      <td>494</td>\n",
       "      <td>321</td>\n",
       "      <td>65</td>\n",
       "      <td>20</td>\n",
       "      <td>15</td>\n",
       "      <td>85.9</td>\n",
       "      <td>167</td>\n",
       "      <td>...</td>\n",
       "      <td>38</td>\n",
       "      <td>278</td>\n",
       "      <td>6-1</td>\n",
       "      <td>210</td>\n",
       "      <td>None</td>\n",
       "      <td>None</td>\n",
       "      <td>5</td>\n",
       "      <td>Old Dominion</td>\n",
       "      <td>29</td>\n",
       "      <td>None</td>\n",
       "    </tr>\n",
       "    <tr>\n",
       "      <th>19</th>\n",
       "      <td>Jared Goff</td>\n",
       "      <td>3245</td>\n",
       "      <td>6.6</td>\n",
       "      <td>494</td>\n",
       "      <td>332</td>\n",
       "      <td>67.2</td>\n",
       "      <td>19</td>\n",
       "      <td>8</td>\n",
       "      <td>91.5</td>\n",
       "      <td>162</td>\n",
       "      <td>...</td>\n",
       "      <td>35</td>\n",
       "      <td>280</td>\n",
       "      <td>6-4</td>\n",
       "      <td>217</td>\n",
       "      <td>32 3/4</td>\n",
       "      <td>9</td>\n",
       "      <td>7</td>\n",
       "      <td>California</td>\n",
       "      <td>27</td>\n",
       "      <td>None</td>\n",
       "    </tr>\n",
       "    <tr>\n",
       "      <th>20</th>\n",
       "      <td>Jalen Hurts</td>\n",
       "      <td>3144</td>\n",
       "      <td>7.3</td>\n",
       "      <td>432</td>\n",
       "      <td>265</td>\n",
       "      <td>61.3</td>\n",
       "      <td>16</td>\n",
       "      <td>9</td>\n",
       "      <td>87.2</td>\n",
       "      <td>143</td>\n",
       "      <td>...</td>\n",
       "      <td>26</td>\n",
       "      <td>150</td>\n",
       "      <td>6-1</td>\n",
       "      <td>223</td>\n",
       "      <td>31 3/4</td>\n",
       "      <td>9 3/4</td>\n",
       "      <td>3</td>\n",
       "      <td>Oklahoma</td>\n",
       "      <td>24</td>\n",
       "      <td>Houston, TX</td>\n",
       "    </tr>\n",
       "    <tr>\n",
       "      <th>21</th>\n",
       "      <td>Russell Wilson</td>\n",
       "      <td>3113</td>\n",
       "      <td>7.8</td>\n",
       "      <td>400</td>\n",
       "      <td>259</td>\n",
       "      <td>64.8</td>\n",
       "      <td>25</td>\n",
       "      <td>6</td>\n",
       "      <td>103</td>\n",
       "      <td>135</td>\n",
       "      <td>...</td>\n",
       "      <td>33</td>\n",
       "      <td>266</td>\n",
       "      <td>5-11</td>\n",
       "      <td>215</td>\n",
       "      <td>31</td>\n",
       "      <td>10 1/4</td>\n",
       "      <td>11</td>\n",
       "      <td>Wisconsin</td>\n",
       "      <td>33</td>\n",
       "      <td>None</td>\n",
       "    </tr>\n",
       "    <tr>\n",
       "      <th>22</th>\n",
       "      <td>Teddy Bridgewater</td>\n",
       "      <td>3052</td>\n",
       "      <td>7.2</td>\n",
       "      <td>426</td>\n",
       "      <td>285</td>\n",
       "      <td>66.9</td>\n",
       "      <td>18</td>\n",
       "      <td>7</td>\n",
       "      <td>94.9</td>\n",
       "      <td>146</td>\n",
       "      <td>...</td>\n",
       "      <td>31</td>\n",
       "      <td>211</td>\n",
       "      <td>6-2</td>\n",
       "      <td>212</td>\n",
       "      <td>33</td>\n",
       "      <td>9 1/4</td>\n",
       "      <td>9</td>\n",
       "      <td>Louisville</td>\n",
       "      <td>29</td>\n",
       "      <td>None</td>\n",
       "    </tr>\n",
       "    <tr>\n",
       "      <th>23</th>\n",
       "      <td>Baker Mayfield</td>\n",
       "      <td>3010</td>\n",
       "      <td>7.2</td>\n",
       "      <td>418</td>\n",
       "      <td>253</td>\n",
       "      <td>60.5</td>\n",
       "      <td>17</td>\n",
       "      <td>13</td>\n",
       "      <td>83.1</td>\n",
       "      <td>143</td>\n",
       "      <td>...</td>\n",
       "      <td>43</td>\n",
       "      <td>269</td>\n",
       "      <td>6-1</td>\n",
       "      <td>215</td>\n",
       "      <td>30 1/4</td>\n",
       "      <td>9 1/4</td>\n",
       "      <td>5</td>\n",
       "      <td>Oklahoma</td>\n",
       "      <td>27</td>\n",
       "      <td>Austin, TX</td>\n",
       "    </tr>\n",
       "    <tr>\n",
       "      <th>24</th>\n",
       "      <td>Lamar Jackson</td>\n",
       "      <td>2882</td>\n",
       "      <td>7.5</td>\n",
       "      <td>382</td>\n",
       "      <td>246</td>\n",
       "      <td>64.4</td>\n",
       "      <td>16</td>\n",
       "      <td>13</td>\n",
       "      <td>87</td>\n",
       "      <td>135</td>\n",
       "      <td>...</td>\n",
       "      <td>38</td>\n",
       "      <td>190</td>\n",
       "      <td>6-2</td>\n",
       "      <td>230</td>\n",
       "      <td>33 1/4</td>\n",
       "      <td>9 1/2</td>\n",
       "      <td>5</td>\n",
       "      <td>Louisville</td>\n",
       "      <td>25</td>\n",
       "      <td>Pompano Beach, FL</td>\n",
       "    </tr>\n",
       "  </tbody>\n",
       "</table>\n",
       "<p>25 rows × 24 columns</p>\n",
       "</div>"
      ],
      "text/plain": [
       "             player_name Pass_Yds Yds_Att  Att  Cmp Cmp_per  TD INT   Rate  \\\n",
       "0             Tom Brady      5316     7.4  719  485    67.4  43  12  102.1   \n",
       "1        Justin Herbert      5014     7.5  672  443    65.9  38  15   97.7   \n",
       "2      Matthew Stafford      4886     8.1  601  404    67.2  41  17  102.9   \n",
       "3       Patrick Mahomes      4839     7.4  658  436    66.3  37  13   98.4   \n",
       "4            Derek Carr      4804     7.7  626  428    68.4  23  14     94   \n",
       "5            Joe Burrow      4611     8.9  520  366    70.4  34  14  108.3   \n",
       "6          Dak Prescott      4449     7.5  596  410    68.8  37  10  104.2   \n",
       "7            Josh Allen      4407     6.8  646  409    63.3  36  15   92.2   \n",
       "8          Kirk Cousins      4221     7.5  561  372    66.3  33   7  103.1   \n",
       "9         Aaron Rodgers      4115     7.8  531  366    68.9  37   4  111.9   \n",
       "10            Matt Ryan      3968     7.1  560  375      67  20  12   90.4   \n",
       "11      Jimmy Garoppolo      3810     8.6  441  301    68.2  20  12   98.7   \n",
       "12            Mac Jones      3801     7.3  521  352    67.6  22  13   92.5   \n",
       "13         Kyler Murray      3787     7.9  481  333    69.2  24  10  100.6   \n",
       "14   Ben Roethlisberger      3740     6.2  605  390    64.5  22  10   86.8   \n",
       "15       Ryan Tannehill      3734       7  531  357    67.2  21  14   89.6   \n",
       "16      Trevor Lawrence      3641       6  602  359    59.6  12  17   71.9   \n",
       "17         Carson Wentz      3563     6.9  516  322    62.4  27   7   94.6   \n",
       "18      Taylor Heinicke      3419     6.9  494  321      65  20  15   85.9   \n",
       "19           Jared Goff      3245     6.6  494  332    67.2  19   8   91.5   \n",
       "20          Jalen Hurts      3144     7.3  432  265    61.3  16   9   87.2   \n",
       "21       Russell Wilson      3113     7.8  400  259    64.8  25   6    103   \n",
       "22    Teddy Bridgewater      3052     7.2  426  285    66.9  18   7   94.9   \n",
       "23       Baker Mayfield      3010     7.2  418  253    60.5  17  13   83.1   \n",
       "24        Lamar Jackson      2882     7.5  382  246    64.4  16  13     87   \n",
       "\n",
       "   _1st  ... Sck SckY player_height player_weight player_arms player_hands  \\\n",
       "0   269  ...  22  144           6-4           225        None         None   \n",
       "1   256  ...  31  214           6-6           236          33           10   \n",
       "2   233  ...  30  243           6-3           220      33 1/4           10   \n",
       "3   260  ...  28  146           6-2           225      33 1/4        9 1/4   \n",
       "4   217  ...  40  241           6-3           210      31 1/2        9 1/4   \n",
       "5   202  ...  51  370           6-4           215          31            9   \n",
       "6   227  ...  30  144           6-2           238      32 1/4           10   \n",
       "7   234  ...  26  164           6-5           237      33 1/4       10 1/4   \n",
       "8   192  ...  28  197           6-3           205      31 3/4           10   \n",
       "9   213  ...  30  188           6-2           225        None         None   \n",
       "10  195  ...  40  274           6-4           220      32 3/4        9 1/2   \n",
       "11  172  ...  29  201           6-2           225          31        9 1/4   \n",
       "12  177  ...  28  241           6-3           217      32 3/4        9 3/4   \n",
       "13  172  ...  31  286          5-10           207      28 1/2        9 1/2   \n",
       "14  188  ...  38  239           6-5           240        None         None   \n",
       "15  192  ...  47  327           6-4           217      32 3/4            9   \n",
       "16  177  ...  32  238           6-6           213      31 1/2           10   \n",
       "17  165  ...  32  227           6-5           237      33 1/4           10   \n",
       "18  167  ...  38  278           6-1           210        None         None   \n",
       "19  162  ...  35  280           6-4           217      32 3/4            9   \n",
       "20  143  ...  26  150           6-1           223      31 3/4        9 3/4   \n",
       "21  135  ...  33  266          5-11           215          31       10 1/4   \n",
       "22  146  ...  31  211           6-2           212          33        9 1/4   \n",
       "23  143  ...  43  269           6-1           215      30 1/4        9 1/4   \n",
       "24  135  ...  38  190           6-2           230      33 1/4        9 1/2   \n",
       "\n",
       "   player_exp      player_college player_age    player_hometown  \n",
       "0          23            Michigan         45               None  \n",
       "1           3              Oregon         24         Eugene, OR  \n",
       "2          14             Georgia         34               None  \n",
       "3           6          Texas Tech         27               None  \n",
       "4           9        Fresno State         31               None  \n",
       "5           3                 LSU         25         Athens, OH  \n",
       "6           7   Mississippi State         29               None  \n",
       "7           5             Wyoming         26      Firebaugh, CA  \n",
       "8          11      Michigan State         34               None  \n",
       "9          18          California         38               None  \n",
       "10         15      Boston College         37          Exton, PA  \n",
       "11          9    Eastern Illinois         30               None  \n",
       "12          2             Alabama         24   Jacksonville, FL  \n",
       "13          4            Oklahoma         25          Allen, TX  \n",
       "14         18        Miami (Ohio)       None               None  \n",
       "15         11           Texas A&M         34               None  \n",
       "16          2             Clemson         23   Cartersville, GA  \n",
       "17          7  North Dakota State         29               None  \n",
       "18          5        Old Dominion         29               None  \n",
       "19          7          California         27               None  \n",
       "20          3            Oklahoma         24        Houston, TX  \n",
       "21         11           Wisconsin         33               None  \n",
       "22          9          Louisville         29               None  \n",
       "23          5            Oklahoma         27         Austin, TX  \n",
       "24          5          Louisville         25  Pompano Beach, FL  \n",
       "\n",
       "[25 rows x 24 columns]"
      ]
     },
     "execution_count": 50,
     "metadata": {},
     "output_type": "execute_result"
    }
   ],
   "source": [
    "df"
   ]
  },
  {
   "cell_type": "code",
   "execution_count": 51,
   "id": "9c71f35c",
   "metadata": {},
   "outputs": [],
   "source": [
    "df.to_csv(\"top_25_nfl_QBs.csv\")"
   ]
  }
 ],
 "metadata": {
  "kernelspec": {
   "display_name": "Python 3",
   "language": "python",
   "name": "python3"
  },
  "language_info": {
   "codemirror_mode": {
    "name": "ipython",
    "version": 3
   },
   "file_extension": ".py",
   "mimetype": "text/x-python",
   "name": "python",
   "nbconvert_exporter": "python",
   "pygments_lexer": "ipython3",
   "version": "3.8.2"
  }
 },
 "nbformat": 4,
 "nbformat_minor": 5
}
